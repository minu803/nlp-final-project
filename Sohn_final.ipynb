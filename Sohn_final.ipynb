{
 "cells": [
  {
   "cell_type": "markdown",
   "metadata": {
    "id": "Ds0_DrTk_bvm"
   },
   "source": [
    "# Introduction"
   ]
  },
  {
   "cell_type": "markdown",
   "metadata": {
    "id": "Go-Q3eqqDWA-"
   },
   "source": [
    "In the intricate financial markets, individual investors often find themselves at a disadvantage, lacking the depth of understanding and expertise that professional analysts bring to the table. To bridge this gap, I harness my newly acquired skills in natural language processing (NLP) with an ambitious goal: to obtain investment insights from the vast ocean of financial news. By utilizing the rich dataset provided by the HuffPost, which includes news articles spanning from January 2012 to September 2022, encompassing approximately 210,000 unique news data.\n",
    "\n",
    "Central to my analysis are the stocks nicknames as \"Magnificent Seven\"(M7): Alphabet, Amazon, Apple, Meta, Microsoft, Nvidia, and Tesla. These high-performing companies are cornerstones of the U.S. market and key drivers of the global economy through their technological innovation, market dominance, and robust financial achievements. Their significant impact makes them prime subjects for exploring how linguistic patterns in financial news may offer predictive insights into stock movements. Using spaCy, an advanced NLP library, along with the tf-idf technique, I aim to develop a predictive model for the financial market.\n",
    "\n",
    "\n",
    "My research question is:\n",
    "\n",
    "Can market conditions, such as bull and bear markets, be distinguished using tf-idf metrics? If so, what specific terms or features most accurately indicate market trends?\n",
    "\n",
    "This research will focus on the M7 companies to represent the market.\n",
    "\n",
    "The analysis employs the weekly percentage change in stock index price as the performance indicator. Weeks with a positive percentage change from the previous week are labeled 'bull' markets, whereas those with a negative change are deemed 'bear' markets. The study will aggregate data for the seven companies from Yahoo Finance into a comprehensive index, with details on this aggregation methodology provided in the data section.\n",
    "\n",
    "This project seeks to demystify the complex language of finance through NLP. By pinpointing language patterns that align with stock performance and market trends, this research not only aims to make financial analysis more accessible to individual investors but also enhances our collective understanding of the influence of information dissemination on market behavior."
   ]
  },
  {
   "cell_type": "markdown",
   "metadata": {
    "id": "pe7LXXZw_jeA"
   },
   "source": [
    "# Method"
   ]
  },
  {
   "cell_type": "markdown",
   "metadata": {
    "id": "xfpQ67Tm_l7E"
   },
   "source": [
    "## Data\n"
   ]
  },
  {
   "cell_type": "markdown",
   "metadata": {
    "id": "RHaVlU0_cSpg"
   },
   "source": [
    "### HuffPost News Data"
   ]
  },
  {
   "cell_type": "markdown",
   "metadata": {},
   "source": [
    "The dataset comprises approximately 210,000 news headlines collected from HuffPost between 2012 and 2022, making it one of the largest archives of its kind and a valuable benchmark for computational linguistics tasks. The collection spans a decade of news coverage, with a significant portion (about 200,000 headlines) from 2012 to May 2018. Following changes to HuffPost's archival policies, the dataset includes a smaller subset (around 10,000 headlines) from May 2018 to 2022. \n",
    "\n",
    "Each record within the dataset is consisted of several attributes:\n",
    "\n",
    "- `'category'`: The news category under which the article was published, encompassing a wide range of subjects including politics, wellness, entertainment, travel, style & beauty, parenting, healthy living, among others.\n",
    "- `'headline'`: The article's title, capturing the essence of the news item.\n",
    "- `'authors'`: Names of the contributors to the article.\n",
    "- `'link'`: A URL directing to the full article on the HuffPost website.\n",
    "- `'short_description'`: An abstract summarizing the article's content.\n",
    "- `'date'`: The publication date, documenting the article's timeliness.\n",
    "\n",
    "\n",
    "The data was obtained from Kaggle and the more information can be found at:\n",
    "https://www.kaggle.com/datasets/rmisra/news-category-dataset?resource=download"
   ]
  },
  {
   "cell_type": "markdown",
   "metadata": {
    "id": "1rixZ3SWcWpu"
   },
   "source": [
    "### Yahoo Finance"
   ]
  },
  {
   "cell_type": "markdown",
   "metadata": {
    "id": "5DBvlx-RGCQe"
   },
   "source": [
    "We will source our primary stock data from the Yahoo Finance API, a comprehensive suite of libraries, APIs, and methods designed to provide historical and real-time data across various financial markets. Our focus will be extracting data for seven key companies, from the same duration of the news dataset from 2012 to 2022 \n",
    "\n",
    "Our variable of interest are:\n",
    "\n",
    "- The `'Date'` is the date of the stock exchange.\n",
    "- The `'ticker'` is an abbreviated symbols representing company names.\n",
    "- The `'adjusted close price'` is the value of a stock after adjusting for any corporate actions, ensuring that our calculations are precise and meaningful.\n",
    "- The `'equal_weight_index'` is an aggregated stock index number that incorporates the 7 stocks with equal weight for simplicity.\n",
    "\n",
    "We will construct an index with equal weighting for these companies. This aggregated index approach simplifies the complex fluctuations of the stock market into a single metric, facilitating an easier comparison and analysis of overall market performance.\n",
    "\n",
    "Our analysis will pivot around the monthly change as a performance indicator, distinguishing between bull and bear markets. This method will not only highlight the general market direction but also provide insights into the volatility and potential trends within these periods."
   ]
  },
  {
   "cell_type": "markdown",
   "metadata": {
    "id": "9yyWT6cU_ulD"
   },
   "source": [
    "## Linguistic Analysis"
   ]
  },
  {
   "cell_type": "markdown",
   "metadata": {},
   "source": [
    "### 1) TF-IDF\n",
    "\n",
    "The term frequency-inverse document frequency (tf-idf) technique is a statistical measure used to evaluate how important a word is to a document in a collection or corpus. It is achieved by multiplying two metrics: how many times a word appears in a document, and the inverse document frequency of the word across a set of documents. This results in words that are common in a specific document but rare in the overall document set being assigned a high score, highlighting their importance in the context of that document.\n",
    "\n",
    "In the context of this project, tf-idf is employed to sift through thousands of financial news articles to identify and weigh the significance of words that are most relevant to stock market movements. By analyzing the frequency and importance of specific terms in news articles related to the \"Magnificent Seven\" companies, the technique aids in pinpointing linguistic patterns that may have predictive power over stock market trends. It allows us to quantify the impact of certain keywords or phrases on market conditions, distinguishing between common language and terms that could signal shifts in the financial landscape.\n"
   ]
  },
  {
   "cell_type": "markdown",
   "metadata": {
    "id": "NmmNsD5C_jbu"
   },
   "source": [
    "## Statistical Analysis"
   ]
  },
  {
   "cell_type": "markdown",
   "metadata": {},
   "source": [
    "### 1) Logistic Regression\n",
    "Logistic Regression is a statistical method for analyzing a dataset in which there are one or more independent variables that determine an outcome. The outcome is measured with a two variables. In the context of our project, Logistic Regression is used to predict the market condition (bull or bear) based on the TF-IDF scores of terms found in financial news articles. By modeling the relationship between the terms' TF-IDF scores and the market's direction, we can assess the likelihood of market movements based on current news trends, making it a powerful tool for forecasting.\n",
    "\n",
    "### 2) Naive Bayes\n",
    "Naive Bayes is a simple probabilistic classifier based on applying Bayes' theorem with strong (naive) independence assumptions between the features. It is particularly suited for high-dimensional data, making it an excellent choice for text classification problems. In our project, Naive Bayes is employed to classify news articles as indicators of either bull or bear markets, using the frequency of text features transformed through TF-IDF. \n",
    "\n",
    "### 3) Gradient Boosting\n",
    "Gradient Boosting is an ensemble technique that creates a prediction model by combining the strengths of multiple weak models, typically decision trees. It builds the model in a stage-wise fashion and generalizes them by allowing optimization of an arbitrary differentiable loss function. Within our project, Gradient Boosting is leveraged to predict market trends based on the aggregated TF-IDF features of financial news articles. This method is particularly useful for reducing bias and variance in our predictions, offering a more nuanced understanding of how specific terms or combinations of terms in the news correlate with market movements.\n"
   ]
  },
  {
   "cell_type": "markdown",
   "metadata": {
    "id": "KOE5698w_jZ2"
   },
   "source": [
    "## NLP Analysis"
   ]
  },
  {
   "cell_type": "markdown",
   "metadata": {},
   "source": [
    "The following steps outline the analysis process:\n",
    "\n",
    "1. Load the pre-processed news dataset alongside stock index data aggregated via the Yahoo Finance API.\n",
    "2. Utilize the spaCy library for text processing, leveraging its advanced NLP pipeline.\n",
    "3. Calculate TF-IDF scores, displaying the top 40 indicative words for both bull and bear markets.\n",
    "4. Evaluate model performance, identifying areas of improvement.\n",
    "5. Extract and exclude stop words identified from the analysis, then re-run the models.\n",
    "6. Contrast the outcomes between the original models and those refined by stop word removal, examining the impact on predictive accuracy."
   ]
  },
  {
   "cell_type": "markdown",
   "metadata": {},
   "source": [
    "## 1. Pre-process Data"
   ]
  },
  {
   "cell_type": "markdown",
   "metadata": {},
   "source": [
    "Our dataset comprises news articles spanning various sectors. We will refine our dataset by selecting only the articles relevant to these M7 companies. This selection process involves using company names and stock tickers as keywords to filter articles, ensuring our analysis is focused and relevant to our specified entities. After this filtering process, we were able to reduce the number of articles from 209,527 to 2,634."
   ]
  },
  {
   "cell_type": "markdown",
   "metadata": {},
   "source": [
    "### Reading the News Data"
   ]
  },
  {
   "cell_type": "code",
   "execution_count": 2,
   "metadata": {},
   "outputs": [
    {
     "data": {
      "text/plain": [
       "(209527, 6)"
      ]
     },
     "execution_count": 2,
     "metadata": {},
     "output_type": "execute_result"
    }
   ],
   "source": [
    "import pandas as pd\n",
    "import numpy as np\n",
    "news_df = pd.read_json('News_Category_Dataset_v3.json', lines=True)\n",
    "news_df.shape"
   ]
  },
  {
   "cell_type": "code",
   "execution_count": 3,
   "metadata": {},
   "outputs": [],
   "source": [
    "# Keywords for the \"Magnificent Seven\" companies\n",
    "m7_keywords = ['Alphabet', 'Google','GOOGL', 'Amazon', 'AMZN', 'Apple','AAPL', 'Meta', 'Facebook', 'Microsoft', 'MSFT', 'Nvidia','NVDA', 'Tesla', 'TSLA']\n",
    "\n",
    "def filter_m7_companies(df):\n",
    "    # This function checks if any of the m7 keywords are in the 'short_description' column\n",
    "    return df[df['short_description'].apply(lambda x: any(keyword in x for keyword in m7_keywords))]"
   ]
  },
  {
   "cell_type": "code",
   "execution_count": 4,
   "metadata": {},
   "outputs": [
    {
     "name": "stdout",
     "output_type": "stream",
     "text": [
      "(2634, 6)\n"
     ]
    }
   ],
   "source": [
    "# Apply the filtering function\n",
    "news_df = filter_m7_companies(news_df)\n",
    "\n",
    "print(news_df.shape)"
   ]
  },
  {
   "cell_type": "markdown",
   "metadata": {},
   "source": [
    "### Remove Duplicates"
   ]
  },
  {
   "cell_type": "code",
   "execution_count": 5,
   "metadata": {},
   "outputs": [
    {
     "name": "stdout",
     "output_type": "stream",
     "text": [
      "Number of entries after removing duplicates: (2347, 6)\n"
     ]
    }
   ],
   "source": [
    "# Remove duplicates based only on the 'short_description' column\n",
    "news_df = news_df.drop_duplicates(subset=['short_description'])\n",
    "\n",
    "# Alternatively, consider all columns when checking for duplicates\n",
    "news_df = news_df.drop_duplicates()\n",
    "\n",
    "# Check the shape of the DataFrame after removing duplicates\n",
    "print(\"Number of entries after removing duplicates:\", news_df.shape)"
   ]
  },
  {
   "cell_type": "markdown",
   "metadata": {},
   "source": [
    "### Remove Promotional Contents "
   ]
  },
  {
   "cell_type": "markdown",
   "metadata": {},
   "source": [
    "Upon reviewing the news_df['short_description'] contents, I discovered some repeating promotional contents. Few examples are shown below:\n",
    "- Want more? Be sure to check out HuffPost Style on Twitter, Facebook, Tumblr, Pinterest and Instagram at @HuffPostStyle. Between\n",
    "\n",
    "- Keep in touch! Check out HuffPost Weddings on Facebook, Twitter and Pinterest. Check out more hilarious last-name fails in\n",
    "\n",
    "- Have something to say?\n",
    "\n",
    "- Follow Tia Ghose on Twitter and Google+. Follow us @livescience, Facebook & Google+. Original article on LiveScience. To\n",
    "\n",
    "- See Camilla's style evolution! Check 'em out. Want more? Be sure to check out HuffPost Style on Twitter, Facebook, Tumblr\n",
    "\n",
    "So then, I decided to remove the entries strating with 'Want more?\" and 'Keep in touch!'"
   ]
  },
  {
   "cell_type": "code",
   "execution_count": 6,
   "metadata": {},
   "outputs": [
    {
     "name": "stdout",
     "output_type": "stream",
     "text": [
      "Number of entries after removing promotional content and 'HuffPost' mentions: (1390, 6)\n"
     ]
    },
    {
     "data": {
      "text/html": [
       "<div>\n",
       "<style scoped>\n",
       "    .dataframe tbody tr th:only-of-type {\n",
       "        vertical-align: middle;\n",
       "    }\n",
       "\n",
       "    .dataframe tbody tr th {\n",
       "        vertical-align: top;\n",
       "    }\n",
       "\n",
       "    .dataframe thead th {\n",
       "        text-align: right;\n",
       "    }\n",
       "</style>\n",
       "<table border=\"1\" class=\"dataframe\">\n",
       "  <thead>\n",
       "    <tr style=\"text-align: right;\">\n",
       "      <th></th>\n",
       "      <th>link</th>\n",
       "      <th>headline</th>\n",
       "      <th>category</th>\n",
       "      <th>short_description</th>\n",
       "      <th>authors</th>\n",
       "      <th>date</th>\n",
       "    </tr>\n",
       "  </thead>\n",
       "  <tbody>\n",
       "    <tr>\n",
       "      <th>185</th>\n",
       "      <td>https://www.huffpost.com/entry/lost-wedding-ri...</td>\n",
       "      <td>Metal-Detecting Stranger Retrieves Woman’s Rin...</td>\n",
       "      <td>U.S. NEWS</td>\n",
       "      <td>Francesca Teal's plea for help on Facebook got...</td>\n",
       "      <td></td>\n",
       "      <td>2022-08-21</td>\n",
       "    </tr>\n",
       "    <tr>\n",
       "      <th>452</th>\n",
       "      <td>https://www.huffpost.com/entry/instagram-faceb...</td>\n",
       "      <td>Instagram And Facebook Remove Posts Offering A...</td>\n",
       "      <td>TECH</td>\n",
       "      <td>Facebook and Instagram began removing some of ...</td>\n",
       "      <td>Amanda Seitz, AP</td>\n",
       "      <td>2022-06-28</td>\n",
       "    </tr>\n",
       "    <tr>\n",
       "      <th>529</th>\n",
       "      <td>https://www.huffpost.com/entry/blake-lemoine-l...</td>\n",
       "      <td>Google Engineer On Leave After He Claims AI Pr...</td>\n",
       "      <td>TECH</td>\n",
       "      <td>Artificially intelligent chatbot generator LaM...</td>\n",
       "      <td>Mary Papenfuss</td>\n",
       "      <td>2022-06-12</td>\n",
       "    </tr>\n",
       "    <tr>\n",
       "      <th>585</th>\n",
       "      <td>https://www.huffpost.com/entry/a-new-labor-mov...</td>\n",
       "      <td>WATCH LIVE — A New Labor Movement: How Workers...</td>\n",
       "      <td>POLITICS</td>\n",
       "      <td>Tune in on July 20 to watch our panel discussi...</td>\n",
       "      <td>Amanda Terkel</td>\n",
       "      <td>2022-06-01</td>\n",
       "    </tr>\n",
       "    <tr>\n",
       "      <th>679</th>\n",
       "      <td>https://www.huffpost.com/entry/mug-shots-ruin-...</td>\n",
       "      <td>Facebook Is Still Allowing Mug Shots Even Thou...</td>\n",
       "      <td>TECH</td>\n",
       "      <td>When an individual’s mug shot goes viral on Fa...</td>\n",
       "      <td>Jessica Schulberg</td>\n",
       "      <td>2022-05-14</td>\n",
       "    </tr>\n",
       "  </tbody>\n",
       "</table>\n",
       "</div>"
      ],
      "text/plain": [
       "                                                  link  \\\n",
       "185  https://www.huffpost.com/entry/lost-wedding-ri...   \n",
       "452  https://www.huffpost.com/entry/instagram-faceb...   \n",
       "529  https://www.huffpost.com/entry/blake-lemoine-l...   \n",
       "585  https://www.huffpost.com/entry/a-new-labor-mov...   \n",
       "679  https://www.huffpost.com/entry/mug-shots-ruin-...   \n",
       "\n",
       "                                              headline   category  \\\n",
       "185  Metal-Detecting Stranger Retrieves Woman’s Rin...  U.S. NEWS   \n",
       "452  Instagram And Facebook Remove Posts Offering A...       TECH   \n",
       "529  Google Engineer On Leave After He Claims AI Pr...       TECH   \n",
       "585  WATCH LIVE — A New Labor Movement: How Workers...   POLITICS   \n",
       "679  Facebook Is Still Allowing Mug Shots Even Thou...       TECH   \n",
       "\n",
       "                                     short_description            authors  \\\n",
       "185  Francesca Teal's plea for help on Facebook got...                      \n",
       "452  Facebook and Instagram began removing some of ...   Amanda Seitz, AP   \n",
       "529  Artificially intelligent chatbot generator LaM...     Mary Papenfuss   \n",
       "585  Tune in on July 20 to watch our panel discussi...      Amanda Terkel   \n",
       "679  When an individual’s mug shot goes viral on Fa...  Jessica Schulberg   \n",
       "\n",
       "          date  \n",
       "185 2022-08-21  \n",
       "452 2022-06-28  \n",
       "529 2022-06-12  \n",
       "585 2022-06-01  \n",
       "679 2022-05-14  "
      ]
     },
     "execution_count": 6,
     "metadata": {},
     "output_type": "execute_result"
    }
   ],
   "source": [
    "def remove_promotional_content(df):\n",
    "    \"\"\"\n",
    "    Removes rows from the DataFrame where 'short_description' starts with certain promotional phrases or contains 'HuffPost'.\n",
    "    \"\"\"\n",
    "    # Define a list of promotional starters\n",
    "    promotional_starters = ['Want more?', 'Keep in touch!', 'Have something to say?', 'Follow']\n",
    "    \n",
    "    # Check if the 'short_description' starts with any of the promotional phrases\n",
    "    condition_starts = df['short_description'].apply(lambda x: not any(x.startswith(phrase) for phrase in promotional_starters))\n",
    "    \n",
    "    # Check if the 'short_description' contains 'HuffPost'\n",
    "    condition_contains_huffpost = ~df['short_description'].str.contains('HuffPost', case=False)\n",
    "    \n",
    "    # Combine conditions: entries should meet both conditions\n",
    "    combined_condition = condition_starts & condition_contains_huffpost\n",
    "    \n",
    "    # Filter the DataFrame based on the combined condition\n",
    "    return df[combined_condition]\n",
    "\n",
    "# Apply the function to remove promotional content and entries containing 'HuffPost'\n",
    "news_df = remove_promotional_content(news_df)\n",
    "\n",
    "# Show the shape or a few rows of the DataFrame to verify changes\n",
    "print(\"Number of entries after removing promotional content and 'HuffPost' mentions:\", news_df.shape)\n",
    "news_df.head()\n"
   ]
  },
  {
   "cell_type": "markdown",
   "metadata": {},
   "source": [
    "### Remove Specific Terms List"
   ]
  },
  {
   "cell_type": "code",
   "execution_count": 7,
   "metadata": {},
   "outputs": [],
   "source": [
    "def remove_unwanted_words(text):\n",
    "    unwanted_words = ['@huffpost']\n",
    "    return ' '.join(word for word in text.split() if word not in unwanted_words)\n",
    "\n",
    "# Apply the cleaning function\n",
    "news_df['short_description'] = news_df['short_description'].apply(remove_unwanted_words)\n"
   ]
  },
  {
   "cell_type": "markdown",
   "metadata": {},
   "source": [
    "### Remove the texts starting with '@' and '#'"
   ]
  },
  {
   "cell_type": "code",
   "execution_count": 8,
   "metadata": {},
   "outputs": [],
   "source": [
    "import re\n",
    "def clean_text(text):\n",
    "    # Remove handles and hashtags\n",
    "    text = re.sub(r'@\\w+', '', text)  # Removes words starting with '@'\n",
    "    text = re.sub(r'#\\w+', '', text)  # Removes words starting with '#'\n",
    "    return text\n",
    "\n",
    "# Apply the cleaning function\n",
    "news_df['short_description'] = news_df['short_description'].apply(clean_text)\n"
   ]
  },
  {
   "cell_type": "code",
   "execution_count": 9,
   "metadata": {},
   "outputs": [
    {
     "data": {
      "text/plain": [
       "(1390, 6)"
      ]
     },
     "execution_count": 9,
     "metadata": {},
     "output_type": "execute_result"
    }
   ],
   "source": [
    "news_df.shape"
   ]
  },
  {
   "cell_type": "code",
   "execution_count": 10,
   "metadata": {},
   "outputs": [
    {
     "name": "stdout",
     "output_type": "stream",
     "text": [
      "[('the', 1550), ('to', 862), ('a', 840), ('and', 781), ('of', 719), ('facebook', 515), ('on', 469), ('in', 457), ('for', 331), ('is', 321), ('that', 305), ('i', 251), ('with', 214), ('apple', 191), ('it', 188), ('google', 178), ('as', 170), ('you', 166), ('be', 157), ('was', 155), ('has', 152), ('are', 151), ('this', 147), ('by', 137), ('have', 136), ('an', 134), ('from', 132), ('we', 129), ('but', 125), ('or', 112), ('my', 110), ('new', 108), ('at', 106), ('about', 105), ('its', 102), ('your', 102), ('amazon', 102), ('more', 101), ('out', 100), ('when', 90), ('their', 88), ('--', 85), ('will', 82), ('all', 82), ('his', 81), ('not', 80), ('one', 79), ('facebook,', 77), ('they', 77), ('who', 76)]\n"
     ]
    }
   ],
   "source": [
    "from collections import Counter\n",
    "\n",
    "# Concatenate all text to analyze\n",
    "all_text = ' '.join(news_df['short_description']).lower()  # Convert to lower case to ensure consistency\n",
    "\n",
    "# Tokenize the text\n",
    "words = all_text.split()\n",
    "\n",
    "# Count word frequencies\n",
    "word_counts = Counter(words)\n",
    "\n",
    "# Display the most common words\n",
    "print(word_counts.most_common(50))"
   ]
  },
  {
   "cell_type": "markdown",
   "metadata": {
    "id": "KDwpYjY7ATUX"
   },
   "source": [
    "## 2. Weekly Aggregation"
   ]
  },
  {
   "cell_type": "code",
   "execution_count": 11,
   "metadata": {},
   "outputs": [
    {
     "data": {
      "text/plain": [
       "(1390, 6)"
      ]
     },
     "execution_count": 11,
     "metadata": {},
     "output_type": "execute_result"
    }
   ],
   "source": [
    "news_df.shape"
   ]
  },
  {
   "cell_type": "code",
   "execution_count": 12,
   "metadata": {},
   "outputs": [
    {
     "data": {
      "text/html": [
       "<div>\n",
       "<style scoped>\n",
       "    .dataframe tbody tr th:only-of-type {\n",
       "        vertical-align: middle;\n",
       "    }\n",
       "\n",
       "    .dataframe tbody tr th {\n",
       "        vertical-align: top;\n",
       "    }\n",
       "\n",
       "    .dataframe thead th {\n",
       "        text-align: right;\n",
       "    }\n",
       "</style>\n",
       "<table border=\"1\" class=\"dataframe\">\n",
       "  <thead>\n",
       "    <tr style=\"text-align: right;\">\n",
       "      <th></th>\n",
       "      <th>link</th>\n",
       "      <th>headline</th>\n",
       "      <th>category</th>\n",
       "      <th>short_description</th>\n",
       "      <th>authors</th>\n",
       "      <th>date</th>\n",
       "    </tr>\n",
       "  </thead>\n",
       "  <tbody>\n",
       "    <tr>\n",
       "      <th>185</th>\n",
       "      <td>https://www.huffpost.com/entry/lost-wedding-ri...</td>\n",
       "      <td>Metal-Detecting Stranger Retrieves Woman’s Rin...</td>\n",
       "      <td>U.S. NEWS</td>\n",
       "      <td>Francesca Teal's plea for help on Facebook got...</td>\n",
       "      <td></td>\n",
       "      <td>2022-08-21</td>\n",
       "    </tr>\n",
       "    <tr>\n",
       "      <th>452</th>\n",
       "      <td>https://www.huffpost.com/entry/instagram-faceb...</td>\n",
       "      <td>Instagram And Facebook Remove Posts Offering A...</td>\n",
       "      <td>TECH</td>\n",
       "      <td>Facebook and Instagram began removing some of ...</td>\n",
       "      <td>Amanda Seitz, AP</td>\n",
       "      <td>2022-06-28</td>\n",
       "    </tr>\n",
       "    <tr>\n",
       "      <th>529</th>\n",
       "      <td>https://www.huffpost.com/entry/blake-lemoine-l...</td>\n",
       "      <td>Google Engineer On Leave After He Claims AI Pr...</td>\n",
       "      <td>TECH</td>\n",
       "      <td>Artificially intelligent chatbot generator LaM...</td>\n",
       "      <td>Mary Papenfuss</td>\n",
       "      <td>2022-06-12</td>\n",
       "    </tr>\n",
       "    <tr>\n",
       "      <th>585</th>\n",
       "      <td>https://www.huffpost.com/entry/a-new-labor-mov...</td>\n",
       "      <td>WATCH LIVE — A New Labor Movement: How Workers...</td>\n",
       "      <td>POLITICS</td>\n",
       "      <td>Tune in on July 20 to watch our panel discussi...</td>\n",
       "      <td>Amanda Terkel</td>\n",
       "      <td>2022-06-01</td>\n",
       "    </tr>\n",
       "    <tr>\n",
       "      <th>679</th>\n",
       "      <td>https://www.huffpost.com/entry/mug-shots-ruin-...</td>\n",
       "      <td>Facebook Is Still Allowing Mug Shots Even Thou...</td>\n",
       "      <td>TECH</td>\n",
       "      <td>When an individual’s mug shot goes viral on Fa...</td>\n",
       "      <td>Jessica Schulberg</td>\n",
       "      <td>2022-05-14</td>\n",
       "    </tr>\n",
       "  </tbody>\n",
       "</table>\n",
       "</div>"
      ],
      "text/plain": [
       "                                                  link  \\\n",
       "185  https://www.huffpost.com/entry/lost-wedding-ri...   \n",
       "452  https://www.huffpost.com/entry/instagram-faceb...   \n",
       "529  https://www.huffpost.com/entry/blake-lemoine-l...   \n",
       "585  https://www.huffpost.com/entry/a-new-labor-mov...   \n",
       "679  https://www.huffpost.com/entry/mug-shots-ruin-...   \n",
       "\n",
       "                                              headline   category  \\\n",
       "185  Metal-Detecting Stranger Retrieves Woman’s Rin...  U.S. NEWS   \n",
       "452  Instagram And Facebook Remove Posts Offering A...       TECH   \n",
       "529  Google Engineer On Leave After He Claims AI Pr...       TECH   \n",
       "585  WATCH LIVE — A New Labor Movement: How Workers...   POLITICS   \n",
       "679  Facebook Is Still Allowing Mug Shots Even Thou...       TECH   \n",
       "\n",
       "                                     short_description            authors  \\\n",
       "185  Francesca Teal's plea for help on Facebook got...                      \n",
       "452  Facebook and Instagram began removing some of ...   Amanda Seitz, AP   \n",
       "529  Artificially intelligent chatbot generator LaM...     Mary Papenfuss   \n",
       "585  Tune in on July 20 to watch our panel discussi...      Amanda Terkel   \n",
       "679  When an individual’s mug shot goes viral on Fa...  Jessica Schulberg   \n",
       "\n",
       "          date  \n",
       "185 2022-08-21  \n",
       "452 2022-06-28  \n",
       "529 2022-06-12  \n",
       "585 2022-06-01  \n",
       "679 2022-05-14  "
      ]
     },
     "execution_count": 12,
     "metadata": {},
     "output_type": "execute_result"
    }
   ],
   "source": [
    "news_df.head()"
   ]
  },
  {
   "cell_type": "code",
   "execution_count": 13,
   "metadata": {},
   "outputs": [],
   "source": [
    "# Convert 'date' to datetime and sort the DataFrame by this column\n",
    "news_df['date'] = pd.to_datetime(news_df['date'])\n",
    "news_df.sort_values('date', inplace=True)\n",
    "\n",
    "# Group by the publication week and aggregate text\n",
    "weekly_aggregated_text = news_df.groupby(news_df['date'].dt.to_period('W'))['short_description'].apply(' '.join)\n",
    "\n",
    "# Convert the PeriodIndex to DateTimeIndex (to the last day of each week)\n",
    "weekly_aggregated_text.index = weekly_aggregated_text.index.to_timestamp(how='end')"
   ]
  },
  {
   "cell_type": "code",
   "execution_count": 14,
   "metadata": {},
   "outputs": [
    {
     "name": "stdout",
     "output_type": "stream",
     "text": [
      "date\n",
      "2012-01-29    For the most part, teens' experience on Google...\n",
      "2012-02-05    My concern is that if we add grief, or interne...\n",
      "2012-02-12    To help couples reconnect, Nivea is offering a...\n",
      "2012-02-19    This week our photos come from Galápagos, the ...\n",
      "2012-02-26    Every week the numerous blogs covering the mac...\n",
      "                                    ...                        \n",
      "2022-05-15    When an individual’s mug shot goes viral on Fa...\n",
      "2022-06-05    Tune in on July 20 to watch our panel discussi...\n",
      "2022-06-12    Artificially intelligent chatbot generator LaM...\n",
      "2022-07-03    Facebook and Instagram began removing some of ...\n",
      "2022-08-21    Francesca Teal's plea for help on Facebook got...\n",
      "Name: short_description, Length: 384, dtype: object\n"
     ]
    }
   ],
   "source": [
    "# Change the date format of the index\n",
    "weekly_aggregated_text.index = weekly_aggregated_text.index.strftime('%Y-%m-%d')\n",
    "\n",
    "print(weekly_aggregated_text)"
   ]
  },
  {
   "cell_type": "markdown",
   "metadata": {},
   "source": [
    "### Yahoo Finance"
   ]
  },
  {
   "cell_type": "markdown",
   "metadata": {},
   "source": [
    "Yahoo Finance is user-friendly and accessible through API calls. By specifying company tickers and date ranges, data retrieval becomes straightforward. Subsequently, I constructed an index aggregating all chosen stocks, applying equal weight to each for simplicity. For more precise outcomes, incorporating variable weights into the calculation could be considered."
   ]
  },
  {
   "cell_type": "code",
   "execution_count": 15,
   "metadata": {
    "colab": {
     "base_uri": "https://localhost:8080/"
    },
    "id": "JvVugg-7qcaA",
    "outputId": "946f3d01-993d-47b0-f926-9dfbcadb6344"
   },
   "outputs": [
    {
     "name": "stderr",
     "output_type": "stream",
     "text": [
      "[*********************100%%**********************]  7 of 7 completed"
     ]
    },
    {
     "name": "stdout",
     "output_type": "stream",
     "text": [
      "Ticker      Equal_Weight_Index\n",
      "Date                          \n",
      "2012-01-30            1.586157\n",
      "2012-01-31            1.590354\n",
      "2012-02-01            1.581225\n",
      "2012-02-02            1.590949\n",
      "2012-02-03            1.616721\n"
     ]
    },
    {
     "name": "stderr",
     "output_type": "stream",
     "text": [
      "\n"
     ]
    }
   ],
   "source": [
    "import yfinance as yf\n",
    "import pandas as pd\n",
    "\n",
    "# Define the stock symbols\n",
    "symbols = ['GOOGL', 'AMZN', 'AAPL', 'META', 'MSFT', 'NVDA', 'TSLA']\n",
    "\n",
    "# Fetch historical data from 2022-12-01 to 2023-12-31\n",
    "data = yf.download(symbols, start='2012-01-28', end='2022-09-23')['Adj Close']\n",
    "\n",
    "# Calculate the simple average of the stocks for each day using equal weighting\n",
    "equal_weight = 1/7\n",
    "data['Equal_Weight_Index'] = data.mean(axis=1) * equal_weight\n",
    "\n",
    "# Display the first few row of index\n",
    "print(data[['Equal_Weight_Index']].head())"
   ]
  },
  {
   "cell_type": "code",
   "execution_count": 16,
   "metadata": {
    "colab": {
     "base_uri": "https://localhost:8080/",
     "height": 509
    },
    "id": "2PxChjsJqjcX",
    "outputId": "de8f2c7d-6cc1-42be-84ea-95be53e7210a"
   },
   "outputs": [
    {
     "data": {
      "text/plain": [
       "<Axes: title={'center': 'M7 Index'}, xlabel='Date'>"
      ]
     },
     "execution_count": 16,
     "metadata": {},
     "output_type": "execute_result"
    },
    {
     "data": {
      "image/png": "[encoded data removed]",
      "text/plain": [
       "<Figure size 1000x600 with 1 Axes>"
      ]
     },
     "metadata": {},
     "output_type": "display_data"
    }
   ],
   "source": [
    "# visualize the index\n",
    "data[['Equal_Weight_Index']].plot(title='M7 Index', figsize=(10, 6))"
   ]
  },
  {
   "cell_type": "markdown",
   "metadata": {},
   "source": [
    "### Weekly Performance"
   ]
  },
  {
   "cell_type": "markdown",
   "metadata": {},
   "source": [
    "The stock data is aggregated weekly to align with the news data's timeframe. Weeks exhibiting a positive percentage change compared to the previous week in stock prices are labeled as ‘bull’ markets, whereas those with a negative change are classified as ‘bear’ markets."
   ]
  },
  {
   "cell_type": "code",
   "execution_count": 17,
   "metadata": {},
   "outputs": [],
   "source": [
    "# Define a function to classify the market condition\n",
    "def classify_market(change):\n",
    "    if pd.isna(change):\n",
    "        return 'Neutral'  # or 'Unknown', or you could drop these rows later\n",
    "    return 'Bull' if change > 0 else 'Bear'"
   ]
  },
  {
   "cell_type": "code",
   "execution_count": 18,
   "metadata": {},
   "outputs": [],
   "source": [
    "## This cell calculates the weekly percentage change of the index\n",
    "# Resample the data to get the last value of each week\n",
    "weekly_data = data['Equal_Weight_Index'].resample('W').last()\n",
    "\n",
    "# Calculate the weekly percentage change\n",
    "weekly_percentage_change = weekly_data.pct_change() * 100\n",
    "\n",
    "# Convert the weekly percentage change to a DataFrame\n",
    "weekly_percentage_change_df = weekly_percentage_change.to_frame(name='Weekly_Percentage_Change')\n",
    "\n",
    "# Drop rows with NaN values\n",
    "weekly_percentage_change_df.dropna(inplace=True)"
   ]
  },
  {
   "cell_type": "code",
   "execution_count": 19,
   "metadata": {},
   "outputs": [
    {
     "data": {
      "text/html": [
       "<div>\n",
       "<style scoped>\n",
       "    .dataframe tbody tr th:only-of-type {\n",
       "        vertical-align: middle;\n",
       "    }\n",
       "\n",
       "    .dataframe tbody tr th {\n",
       "        vertical-align: top;\n",
       "    }\n",
       "\n",
       "    .dataframe thead th {\n",
       "        text-align: right;\n",
       "    }\n",
       "</style>\n",
       "<table border=\"1\" class=\"dataframe\">\n",
       "  <thead>\n",
       "    <tr style=\"text-align: right;\">\n",
       "      <th></th>\n",
       "      <th>Weekly_Percentage_Change</th>\n",
       "      <th>Market_Condition</th>\n",
       "    </tr>\n",
       "    <tr>\n",
       "      <th>Date</th>\n",
       "      <th></th>\n",
       "      <th></th>\n",
       "    </tr>\n",
       "  </thead>\n",
       "  <tbody>\n",
       "    <tr>\n",
       "      <th>2012-02-12</th>\n",
       "      <td>2.023762</td>\n",
       "      <td>Bull</td>\n",
       "    </tr>\n",
       "    <tr>\n",
       "      <th>2012-02-19</th>\n",
       "      <td>1.564837</td>\n",
       "      <td>Bull</td>\n",
       "    </tr>\n",
       "    <tr>\n",
       "      <th>2012-02-26</th>\n",
       "      <td>0.945408</td>\n",
       "      <td>Bull</td>\n",
       "    </tr>\n",
       "    <tr>\n",
       "      <th>2012-03-04</th>\n",
       "      <td>1.950662</td>\n",
       "      <td>Bull</td>\n",
       "    </tr>\n",
       "    <tr>\n",
       "      <th>2012-03-11</th>\n",
       "      <td>-0.591705</td>\n",
       "      <td>Bear</td>\n",
       "    </tr>\n",
       "    <tr>\n",
       "      <th>...</th>\n",
       "      <td>...</td>\n",
       "      <td>...</td>\n",
       "    </tr>\n",
       "    <tr>\n",
       "      <th>2022-08-28</th>\n",
       "      <td>-5.229227</td>\n",
       "      <td>Bear</td>\n",
       "    </tr>\n",
       "    <tr>\n",
       "      <th>2022-09-04</th>\n",
       "      <td>-5.530200</td>\n",
       "      <td>Bear</td>\n",
       "    </tr>\n",
       "    <tr>\n",
       "      <th>2022-09-11</th>\n",
       "      <td>5.302809</td>\n",
       "      <td>Bull</td>\n",
       "    </tr>\n",
       "    <tr>\n",
       "      <th>2022-09-18</th>\n",
       "      <td>-5.867185</td>\n",
       "      <td>Bear</td>\n",
       "    </tr>\n",
       "    <tr>\n",
       "      <th>2022-09-25</th>\n",
       "      <td>-2.933344</td>\n",
       "      <td>Bear</td>\n",
       "    </tr>\n",
       "  </tbody>\n",
       "</table>\n",
       "<p>555 rows × 2 columns</p>\n",
       "</div>"
      ],
      "text/plain": [
       "            Weekly_Percentage_Change Market_Condition\n",
       "Date                                                 \n",
       "2012-02-12                  2.023762             Bull\n",
       "2012-02-19                  1.564837             Bull\n",
       "2012-02-26                  0.945408             Bull\n",
       "2012-03-04                  1.950662             Bull\n",
       "2012-03-11                 -0.591705             Bear\n",
       "...                              ...              ...\n",
       "2022-08-28                 -5.229227             Bear\n",
       "2022-09-04                 -5.530200             Bear\n",
       "2022-09-11                  5.302809             Bull\n",
       "2022-09-18                 -5.867185             Bear\n",
       "2022-09-25                 -2.933344             Bear\n",
       "\n",
       "[555 rows x 2 columns]"
      ]
     },
     "execution_count": 19,
     "metadata": {},
     "output_type": "execute_result"
    }
   ],
   "source": [
    "# Apply the function to the 'Monthly_Percentage_Change' column\n",
    "weekly_percentage_change_df['Market_Condition'] = weekly_percentage_change_df['Weekly_Percentage_Change'].apply(classify_market)\n",
    "\n",
    "weekly_change = weekly_percentage_change_df.copy()\n",
    "weekly_change"
   ]
  },
  {
   "cell_type": "markdown",
   "metadata": {
    "id": "c-cJbWuUAU85"
   },
   "source": [
    "## 2.Load spacY Libraries and NLP pipeline"
   ]
  },
  {
   "cell_type": "code",
   "execution_count": 20,
   "metadata": {},
   "outputs": [],
   "source": [
    "import en_core_web_sm\n",
    "nlp = en_core_web_sm.load()"
   ]
  },
  {
   "cell_type": "code",
   "execution_count": 21,
   "metadata": {
    "id": "BFQu0k_HzPNS"
   },
   "outputs": [],
   "source": [
    "import spacy\n",
    "nlp = spacy.load(\"en_core_web_sm\")"
   ]
  },
  {
   "cell_type": "code",
   "execution_count": 22,
   "metadata": {},
   "outputs": [],
   "source": [
    "news_df['summary'] = news_df['short_description'].str.lower()"
   ]
  },
  {
   "cell_type": "code",
   "execution_count": 23,
   "metadata": {},
   "outputs": [],
   "source": [
    "# stop words removal\n",
    "import string\n",
    "from spacy.lang.en.stop_words import STOP_WORDS\n",
    "import spacy\n",
    "\n",
    "# stopwords\n",
    "stop_words = STOP_WORDS\n",
    "\n",
    "# define a function to remove stopwords\n",
    "def tokenize_docs(doc):\n",
    "  tokens = [tok.lemma_.lower() for tok in doc if not tok.is_punct and not tok.is_space]\n",
    "  return [tok for tok in tokens if tok not in stop_words]"
   ]
  },
  {
   "cell_type": "code",
   "execution_count": 24,
   "metadata": {
    "id": "ucukVhH_2_60"
   },
   "outputs": [],
   "source": [
    "# processes the text in nlp.pipe batches\n",
    "news_df['headline_processed'] = list(nlp.pipe(news_df.headline))"
   ]
  },
  {
   "cell_type": "code",
   "execution_count": 25,
   "metadata": {},
   "outputs": [],
   "source": [
    "# Convert all non-string entries in the 'summary' column to strings\n",
    "news_df['summary'] = news_df['summary'].apply(lambda x: str(x) if not isinstance(x, str) else x)\n",
    "\n",
    "# use nlp.pipe to process the 'summary' text in batches\n",
    "news_df['summary_processed'] = list(nlp.pipe(news_df['summary']))"
   ]
  },
  {
   "cell_type": "markdown",
   "metadata": {
    "id": "ds137HNIAZQ7"
   },
   "source": [
    "## 3. Tf-idf"
   ]
  },
  {
   "cell_type": "markdown",
   "metadata": {},
   "source": [
    "### Calculate TF-IDF Scores for the Aggregated Weekly Text "
   ]
  },
  {
   "cell_type": "code",
   "execution_count": 26,
   "metadata": {},
   "outputs": [
    {
     "name": "stdout",
     "output_type": "stream",
     "text": [
      "Dataframe Shape: (384, 5172)\n"
     ]
    },
    {
     "data": {
      "text/html": [
       "<div>\n",
       "<style scoped>\n",
       "    .dataframe tbody tr th:only-of-type {\n",
       "        vertical-align: middle;\n",
       "    }\n",
       "\n",
       "    .dataframe tbody tr th {\n",
       "        vertical-align: top;\n",
       "    }\n",
       "\n",
       "    .dataframe thead th {\n",
       "        text-align: right;\n",
       "    }\n",
       "</style>\n",
       "<table border=\"1\" class=\"dataframe\">\n",
       "  <thead>\n",
       "    <tr style=\"text-align: right;\">\n",
       "      <th></th>\n",
       "      <th>$</th>\n",
       "      <th>+</th>\n",
       "      <th>+44</th>\n",
       "      <th>--harita</th>\n",
       "      <th>-0.14</th>\n",
       "      <th>-and</th>\n",
       "      <th>.32</th>\n",
       "      <th>.jpeg</th>\n",
       "      <th>00</th>\n",
       "      <th>04:24</th>\n",
       "      <th>...</th>\n",
       "      <th>zoonosis</th>\n",
       "      <th>zora</th>\n",
       "      <th>zuckerberg</th>\n",
       "      <th>zuckerborg</th>\n",
       "      <th>zuckerburg</th>\n",
       "      <th>zvelo</th>\n",
       "      <th>|</th>\n",
       "      <th>£</th>\n",
       "      <th>’</th>\n",
       "      <th>👋</th>\n",
       "    </tr>\n",
       "    <tr>\n",
       "      <th>date</th>\n",
       "      <th></th>\n",
       "      <th></th>\n",
       "      <th></th>\n",
       "      <th></th>\n",
       "      <th></th>\n",
       "      <th></th>\n",
       "      <th></th>\n",
       "      <th></th>\n",
       "      <th></th>\n",
       "      <th></th>\n",
       "      <th></th>\n",
       "      <th></th>\n",
       "      <th></th>\n",
       "      <th></th>\n",
       "      <th></th>\n",
       "      <th></th>\n",
       "      <th></th>\n",
       "      <th></th>\n",
       "      <th></th>\n",
       "      <th></th>\n",
       "      <th></th>\n",
       "    </tr>\n",
       "  </thead>\n",
       "  <tbody>\n",
       "    <tr>\n",
       "      <th>2012-01-29</th>\n",
       "      <td>0.000000</td>\n",
       "      <td>0.0</td>\n",
       "      <td>0.0</td>\n",
       "      <td>0.0</td>\n",
       "      <td>0.0</td>\n",
       "      <td>0.0</td>\n",
       "      <td>0.0</td>\n",
       "      <td>0.0</td>\n",
       "      <td>0.0</td>\n",
       "      <td>0.0</td>\n",
       "      <td>...</td>\n",
       "      <td>0.0</td>\n",
       "      <td>0.0</td>\n",
       "      <td>0.000000</td>\n",
       "      <td>0.0</td>\n",
       "      <td>0.0</td>\n",
       "      <td>0.000000</td>\n",
       "      <td>0.0</td>\n",
       "      <td>0.0</td>\n",
       "      <td>0.0</td>\n",
       "      <td>0.0</td>\n",
       "    </tr>\n",
       "    <tr>\n",
       "      <th>2012-02-05</th>\n",
       "      <td>0.000000</td>\n",
       "      <td>0.0</td>\n",
       "      <td>0.0</td>\n",
       "      <td>0.0</td>\n",
       "      <td>0.0</td>\n",
       "      <td>0.0</td>\n",
       "      <td>0.0</td>\n",
       "      <td>0.0</td>\n",
       "      <td>0.0</td>\n",
       "      <td>0.0</td>\n",
       "      <td>...</td>\n",
       "      <td>0.0</td>\n",
       "      <td>0.0</td>\n",
       "      <td>0.067085</td>\n",
       "      <td>0.0</td>\n",
       "      <td>0.0</td>\n",
       "      <td>0.000000</td>\n",
       "      <td>0.0</td>\n",
       "      <td>0.0</td>\n",
       "      <td>0.0</td>\n",
       "      <td>0.0</td>\n",
       "    </tr>\n",
       "    <tr>\n",
       "      <th>2012-02-12</th>\n",
       "      <td>0.000000</td>\n",
       "      <td>0.0</td>\n",
       "      <td>0.0</td>\n",
       "      <td>0.0</td>\n",
       "      <td>0.0</td>\n",
       "      <td>0.0</td>\n",
       "      <td>0.0</td>\n",
       "      <td>0.0</td>\n",
       "      <td>0.0</td>\n",
       "      <td>0.0</td>\n",
       "      <td>...</td>\n",
       "      <td>0.0</td>\n",
       "      <td>0.0</td>\n",
       "      <td>0.000000</td>\n",
       "      <td>0.0</td>\n",
       "      <td>0.0</td>\n",
       "      <td>0.133644</td>\n",
       "      <td>0.0</td>\n",
       "      <td>0.0</td>\n",
       "      <td>0.0</td>\n",
       "      <td>0.0</td>\n",
       "    </tr>\n",
       "    <tr>\n",
       "      <th>2012-02-19</th>\n",
       "      <td>0.059464</td>\n",
       "      <td>0.0</td>\n",
       "      <td>0.0</td>\n",
       "      <td>0.0</td>\n",
       "      <td>0.0</td>\n",
       "      <td>0.0</td>\n",
       "      <td>0.0</td>\n",
       "      <td>0.0</td>\n",
       "      <td>0.0</td>\n",
       "      <td>0.0</td>\n",
       "      <td>...</td>\n",
       "      <td>0.0</td>\n",
       "      <td>0.0</td>\n",
       "      <td>0.000000</td>\n",
       "      <td>0.0</td>\n",
       "      <td>0.0</td>\n",
       "      <td>0.000000</td>\n",
       "      <td>0.0</td>\n",
       "      <td>0.0</td>\n",
       "      <td>0.0</td>\n",
       "      <td>0.0</td>\n",
       "    </tr>\n",
       "    <tr>\n",
       "      <th>2012-02-26</th>\n",
       "      <td>0.000000</td>\n",
       "      <td>0.0</td>\n",
       "      <td>0.0</td>\n",
       "      <td>0.0</td>\n",
       "      <td>0.0</td>\n",
       "      <td>0.0</td>\n",
       "      <td>0.0</td>\n",
       "      <td>0.0</td>\n",
       "      <td>0.0</td>\n",
       "      <td>0.0</td>\n",
       "      <td>...</td>\n",
       "      <td>0.0</td>\n",
       "      <td>0.0</td>\n",
       "      <td>0.000000</td>\n",
       "      <td>0.0</td>\n",
       "      <td>0.0</td>\n",
       "      <td>0.000000</td>\n",
       "      <td>0.0</td>\n",
       "      <td>0.0</td>\n",
       "      <td>0.0</td>\n",
       "      <td>0.0</td>\n",
       "    </tr>\n",
       "  </tbody>\n",
       "</table>\n",
       "<p>5 rows × 5172 columns</p>\n",
       "</div>"
      ],
      "text/plain": [
       "                   $    +  +44  --harita  -0.14  -and  .32  .jpeg   00  04:24  \\\n",
       "date                                                                            \n",
       "2012-01-29  0.000000  0.0  0.0       0.0    0.0   0.0  0.0    0.0  0.0    0.0   \n",
       "2012-02-05  0.000000  0.0  0.0       0.0    0.0   0.0  0.0    0.0  0.0    0.0   \n",
       "2012-02-12  0.000000  0.0  0.0       0.0    0.0   0.0  0.0    0.0  0.0    0.0   \n",
       "2012-02-19  0.059464  0.0  0.0       0.0    0.0   0.0  0.0    0.0  0.0    0.0   \n",
       "2012-02-26  0.000000  0.0  0.0       0.0    0.0   0.0  0.0    0.0  0.0    0.0   \n",
       "\n",
       "            ...  zoonosis  zora  zuckerberg  zuckerborg  zuckerburg     zvelo  \\\n",
       "date        ...                                                                 \n",
       "2012-01-29  ...       0.0   0.0    0.000000         0.0         0.0  0.000000   \n",
       "2012-02-05  ...       0.0   0.0    0.067085         0.0         0.0  0.000000   \n",
       "2012-02-12  ...       0.0   0.0    0.000000         0.0         0.0  0.133644   \n",
       "2012-02-19  ...       0.0   0.0    0.000000         0.0         0.0  0.000000   \n",
       "2012-02-26  ...       0.0   0.0    0.000000         0.0         0.0  0.000000   \n",
       "\n",
       "              |    £    ’    👋  \n",
       "date                            \n",
       "2012-01-29  0.0  0.0  0.0  0.0  \n",
       "2012-02-05  0.0  0.0  0.0  0.0  \n",
       "2012-02-12  0.0  0.0  0.0  0.0  \n",
       "2012-02-19  0.0  0.0  0.0  0.0  \n",
       "2012-02-26  0.0  0.0  0.0  0.0  \n",
       "\n",
       "[5 rows x 5172 columns]"
      ]
     },
     "execution_count": 26,
     "metadata": {},
     "output_type": "execute_result"
    }
   ],
   "source": [
    "from sklearn.feature_extraction.text import TfidfVectorizer\n",
    "\n",
    "def tokenize_docs(doc):\n",
    "    doc = nlp(doc)\n",
    "    tokens = [tok.lemma_.lower() for tok in doc if not tok.is_punct and not tok.is_space]\n",
    "    return [tok for tok in tokens if tok not in stop_words]\n",
    "\n",
    "# Initialize the TfidfVectorizer\n",
    "tfidf_vectorizer = TfidfVectorizer(tokenizer=tokenize_docs, token_pattern=None, lowercase=False) # min_df can be set if desired\n",
    "\n",
    "# Fit the vectorizer to the aggregated weekly text\n",
    "tfidf_matrix = tfidf_vectorizer.fit_transform(weekly_aggregated_text)\n",
    "\n",
    "# Create a DataFrame for the TF-IDF scores\n",
    "weekly_tfidf_df = pd.DataFrame(tfidf_matrix.toarray(), index=weekly_aggregated_text.index, columns=tfidf_vectorizer.get_feature_names_out())\n",
    "weekly_tfidf_df.columns = tfidf_vectorizer.get_feature_names_out() # this method returns the vocabulary\n",
    "print(f'Dataframe Shape: {weekly_tfidf_df.shape}')\n",
    "weekly_tfidf_df.head()\n",
    "\n"
   ]
  },
  {
   "cell_type": "markdown",
   "metadata": {},
   "source": [
    "### Frequency Graph"
   ]
  },
  {
   "cell_type": "code",
   "execution_count": 49,
   "metadata": {},
   "outputs": [
    {
     "data": {
      "text/plain": [
       "Text(0.5, 1.0, 'Term Frequency Distribution')"
      ]
     },
     "execution_count": 49,
     "metadata": {},
     "output_type": "execute_result"
    },
    {
     "data": {
      "image/png": "[encoded data removed]",
      "text/plain": [
       "<Figure size 640x480 with 1 Axes>"
      ]
     },
     "metadata": {},
     "output_type": "display_data"
    }
   ],
   "source": [
    "import matplotlib.pyplot as plt\n",
    "weekly_tfidf_df.sum().plot.hist(bins=100)\n",
    "plt.xlabel('Sum of TF-IDF Scores')\n",
    "plt.ylabel('Count')\n",
    "plt.title('Term Frequency Distribution')"
   ]
  },
  {
   "cell_type": "code",
   "execution_count": 50,
   "metadata": {},
   "outputs": [
    {
     "data": {
      "text/plain": [
       "Text(0.5, 1.0, 'Term Frequency Distribution')"
      ]
     },
     "execution_count": 50,
     "metadata": {},
     "output_type": "execute_result"
    },
    {
     "data": {
      "image/png": "[encoded data removed]",
      "text/plain": [
       "<Figure size 640x480 with 1 Axes>"
      ]
     },
     "metadata": {},
     "output_type": "display_data"
    }
   ],
   "source": [
    "import matplotlib.pyplot as plt\n",
    "weekly_tfidf_df.mean().plot.hist(bins=100)\n",
    "plt.xlabel('Sum of TF-IDF Scores')\n",
    "plt.ylabel('Count')\n",
    "plt.title('Term Frequency Distribution')"
   ]
  },
  {
   "cell_type": "markdown",
   "metadata": {},
   "source": [
    "The term frequency distribution displayed in the graph emphasizes the extensive and varied vocabulary present within the dataset, with most words exhibiting infrequent usage, having tf-idf scores less than 3. The graph shows a drastic decline in the count of words as their frequency increases, suggesting a steep drop-off in the number of words that occur more frequently"
   ]
  },
  {
   "cell_type": "markdown",
   "metadata": {},
   "source": [
    "### Align the TF-IDF DataFrame with weekly_change_df"
   ]
  },
  {
   "cell_type": "code",
   "execution_count": 28,
   "metadata": {},
   "outputs": [
    {
     "data": {
      "text/html": [
       "<div>\n",
       "<style scoped>\n",
       "    .dataframe tbody tr th:only-of-type {\n",
       "        vertical-align: middle;\n",
       "    }\n",
       "\n",
       "    .dataframe tbody tr th {\n",
       "        vertical-align: top;\n",
       "    }\n",
       "\n",
       "    .dataframe thead th {\n",
       "        text-align: right;\n",
       "    }\n",
       "</style>\n",
       "<table border=\"1\" class=\"dataframe\">\n",
       "  <thead>\n",
       "    <tr style=\"text-align: right;\">\n",
       "      <th></th>\n",
       "      <th>$</th>\n",
       "      <th>+</th>\n",
       "      <th>+44</th>\n",
       "      <th>--harita</th>\n",
       "      <th>-0.14</th>\n",
       "      <th>-and</th>\n",
       "      <th>.32</th>\n",
       "      <th>.jpeg</th>\n",
       "      <th>00</th>\n",
       "      <th>04:24</th>\n",
       "      <th>...</th>\n",
       "      <th>zuckerberg</th>\n",
       "      <th>zuckerborg</th>\n",
       "      <th>zuckerburg</th>\n",
       "      <th>zvelo</th>\n",
       "      <th>|</th>\n",
       "      <th>£</th>\n",
       "      <th>’</th>\n",
       "      <th>👋</th>\n",
       "      <th>Weekly_Percentage_Change</th>\n",
       "      <th>Market_Condition</th>\n",
       "    </tr>\n",
       "  </thead>\n",
       "  <tbody>\n",
       "    <tr>\n",
       "      <th>2012-02-12</th>\n",
       "      <td>0.000000</td>\n",
       "      <td>0.0</td>\n",
       "      <td>0.0</td>\n",
       "      <td>0.0</td>\n",
       "      <td>0.0</td>\n",
       "      <td>0.0</td>\n",
       "      <td>0.0</td>\n",
       "      <td>0.0</td>\n",
       "      <td>0.0</td>\n",
       "      <td>0.0</td>\n",
       "      <td>...</td>\n",
       "      <td>0.0</td>\n",
       "      <td>0.0</td>\n",
       "      <td>0.0</td>\n",
       "      <td>0.133644</td>\n",
       "      <td>0.0</td>\n",
       "      <td>0.0</td>\n",
       "      <td>0.0</td>\n",
       "      <td>0.0</td>\n",
       "      <td>2.023762</td>\n",
       "      <td>Bull</td>\n",
       "    </tr>\n",
       "    <tr>\n",
       "      <th>2012-02-19</th>\n",
       "      <td>0.059464</td>\n",
       "      <td>0.0</td>\n",
       "      <td>0.0</td>\n",
       "      <td>0.0</td>\n",
       "      <td>0.0</td>\n",
       "      <td>0.0</td>\n",
       "      <td>0.0</td>\n",
       "      <td>0.0</td>\n",
       "      <td>0.0</td>\n",
       "      <td>0.0</td>\n",
       "      <td>...</td>\n",
       "      <td>0.0</td>\n",
       "      <td>0.0</td>\n",
       "      <td>0.0</td>\n",
       "      <td>0.000000</td>\n",
       "      <td>0.0</td>\n",
       "      <td>0.0</td>\n",
       "      <td>0.0</td>\n",
       "      <td>0.0</td>\n",
       "      <td>1.564837</td>\n",
       "      <td>Bull</td>\n",
       "    </tr>\n",
       "    <tr>\n",
       "      <th>2012-02-26</th>\n",
       "      <td>0.000000</td>\n",
       "      <td>0.0</td>\n",
       "      <td>0.0</td>\n",
       "      <td>0.0</td>\n",
       "      <td>0.0</td>\n",
       "      <td>0.0</td>\n",
       "      <td>0.0</td>\n",
       "      <td>0.0</td>\n",
       "      <td>0.0</td>\n",
       "      <td>0.0</td>\n",
       "      <td>...</td>\n",
       "      <td>0.0</td>\n",
       "      <td>0.0</td>\n",
       "      <td>0.0</td>\n",
       "      <td>0.000000</td>\n",
       "      <td>0.0</td>\n",
       "      <td>0.0</td>\n",
       "      <td>0.0</td>\n",
       "      <td>0.0</td>\n",
       "      <td>0.945408</td>\n",
       "      <td>Bull</td>\n",
       "    </tr>\n",
       "    <tr>\n",
       "      <th>2012-03-04</th>\n",
       "      <td>0.000000</td>\n",
       "      <td>0.0</td>\n",
       "      <td>0.0</td>\n",
       "      <td>0.0</td>\n",
       "      <td>0.0</td>\n",
       "      <td>0.0</td>\n",
       "      <td>0.0</td>\n",
       "      <td>0.0</td>\n",
       "      <td>0.0</td>\n",
       "      <td>0.0</td>\n",
       "      <td>...</td>\n",
       "      <td>0.0</td>\n",
       "      <td>0.0</td>\n",
       "      <td>0.0</td>\n",
       "      <td>0.000000</td>\n",
       "      <td>0.0</td>\n",
       "      <td>0.0</td>\n",
       "      <td>0.0</td>\n",
       "      <td>0.0</td>\n",
       "      <td>1.950662</td>\n",
       "      <td>Bull</td>\n",
       "    </tr>\n",
       "    <tr>\n",
       "      <th>2012-03-11</th>\n",
       "      <td>0.000000</td>\n",
       "      <td>0.0</td>\n",
       "      <td>0.0</td>\n",
       "      <td>0.0</td>\n",
       "      <td>0.0</td>\n",
       "      <td>0.0</td>\n",
       "      <td>0.0</td>\n",
       "      <td>0.0</td>\n",
       "      <td>0.0</td>\n",
       "      <td>0.0</td>\n",
       "      <td>...</td>\n",
       "      <td>0.0</td>\n",
       "      <td>0.0</td>\n",
       "      <td>0.0</td>\n",
       "      <td>0.000000</td>\n",
       "      <td>0.0</td>\n",
       "      <td>0.0</td>\n",
       "      <td>0.0</td>\n",
       "      <td>0.0</td>\n",
       "      <td>-0.591705</td>\n",
       "      <td>Bear</td>\n",
       "    </tr>\n",
       "  </tbody>\n",
       "</table>\n",
       "<p>5 rows × 5174 columns</p>\n",
       "</div>"
      ],
      "text/plain": [
       "                   $    +  +44  --harita  -0.14  -and  .32  .jpeg   00  04:24  \\\n",
       "2012-02-12  0.000000  0.0  0.0       0.0    0.0   0.0  0.0    0.0  0.0    0.0   \n",
       "2012-02-19  0.059464  0.0  0.0       0.0    0.0   0.0  0.0    0.0  0.0    0.0   \n",
       "2012-02-26  0.000000  0.0  0.0       0.0    0.0   0.0  0.0    0.0  0.0    0.0   \n",
       "2012-03-04  0.000000  0.0  0.0       0.0    0.0   0.0  0.0    0.0  0.0    0.0   \n",
       "2012-03-11  0.000000  0.0  0.0       0.0    0.0   0.0  0.0    0.0  0.0    0.0   \n",
       "\n",
       "            ...  zuckerberg  zuckerborg  zuckerburg     zvelo    |    £    ’  \\\n",
       "2012-02-12  ...         0.0         0.0         0.0  0.133644  0.0  0.0  0.0   \n",
       "2012-02-19  ...         0.0         0.0         0.0  0.000000  0.0  0.0  0.0   \n",
       "2012-02-26  ...         0.0         0.0         0.0  0.000000  0.0  0.0  0.0   \n",
       "2012-03-04  ...         0.0         0.0         0.0  0.000000  0.0  0.0  0.0   \n",
       "2012-03-11  ...         0.0         0.0         0.0  0.000000  0.0  0.0  0.0   \n",
       "\n",
       "              👋  Weekly_Percentage_Change  Market_Condition  \n",
       "2012-02-12  0.0                  2.023762              Bull  \n",
       "2012-02-19  0.0                  1.564837              Bull  \n",
       "2012-02-26  0.0                  0.945408              Bull  \n",
       "2012-03-04  0.0                  1.950662              Bull  \n",
       "2012-03-11  0.0                 -0.591705              Bear  \n",
       "\n",
       "[5 rows x 5174 columns]"
      ]
     },
     "execution_count": 28,
     "metadata": {},
     "output_type": "execute_result"
    }
   ],
   "source": [
    "# set the index of DataFrame to datetime\n",
    "weekly_tfidf_df.index = pd.to_datetime(weekly_tfidf_df.index)\n",
    "weekly_change.index = pd.to_datetime(weekly_change.index)\n",
    "\n",
    "\n",
    "# Align and join the DataFrames\n",
    "merged_df_weekly = weekly_tfidf_df.join(weekly_change, how='inner')\n",
    "merged_df_weekly.head()"
   ]
  },
  {
   "cell_type": "markdown",
   "metadata": {},
   "source": [
    "## 4. Logistic Regression"
   ]
  },
  {
   "cell_type": "code",
   "execution_count": 29,
   "metadata": {},
   "outputs": [
    {
     "name": "stdout",
     "output_type": "stream",
     "text": [
      "              precision    recall  f1-score   support\n",
      "\n",
      "           0       0.00      0.00      0.00        31\n",
      "           1       0.60      1.00      0.75        46\n",
      "\n",
      "    accuracy                           0.60        77\n",
      "   macro avg       0.30      0.50      0.37        77\n",
      "weighted avg       0.36      0.60      0.45        77\n",
      "\n"
     ]
    },
    {
     "name": "stderr",
     "output_type": "stream",
     "text": [
      "/Users/minwoo/anaconda3/lib/python3.11/site-packages/sklearn/metrics/_classification.py:1344: UndefinedMetricWarning: Precision and F-score are ill-defined and being set to 0.0 in labels with no predicted samples. Use `zero_division` parameter to control this behavior.\n",
      "  _warn_prf(average, modifier, msg_start, len(result))\n",
      "/Users/minwoo/anaconda3/lib/python3.11/site-packages/sklearn/metrics/_classification.py:1344: UndefinedMetricWarning: Precision and F-score are ill-defined and being set to 0.0 in labels with no predicted samples. Use `zero_division` parameter to control this behavior.\n",
      "  _warn_prf(average, modifier, msg_start, len(result))\n",
      "/Users/minwoo/anaconda3/lib/python3.11/site-packages/sklearn/metrics/_classification.py:1344: UndefinedMetricWarning: Precision and F-score are ill-defined and being set to 0.0 in labels with no predicted samples. Use `zero_division` parameter to control this behavior.\n",
      "  _warn_prf(average, modifier, msg_start, len(result))\n"
     ]
    }
   ],
   "source": [
    "from sklearn.model_selection import train_test_split\n",
    "from sklearn.linear_model import LogisticRegression\n",
    "from sklearn.metrics import classification_report\n",
    "import numpy as np\n",
    "\n",
    "# Split the data into features and target variable\n",
    "X = merged_df_weekly.drop(['Market_Condition','Weekly_Percentage_Change'], axis=1)\n",
    "y = merged_df_weekly['Market_Condition']\n",
    "\n",
    "# Encode the target variable (if it's not already numerical)\n",
    "y_encoded = y.apply(lambda x: 1 if x == 'Bull' else 0)\n",
    "\n",
    "# Train-test split with stratification\n",
    "X_train, X_test, y_train, y_test = train_test_split(X, y_encoded, test_size=0.2, random_state=42, stratify=y_encoded)\n",
    "\n",
    "# Initialize and train the logistic regression model\n",
    "logistic_model = LogisticRegression(max_iter=1000)\n",
    "logistic_model.fit(X_train, y_train)\n",
    "\n",
    "# Predict on the test set\n",
    "y_pred = logistic_model.predict(X_test)\n",
    "\n",
    "# Evaluate the model\n",
    "report = classification_report(y_test, y_pred)\n",
    "print(report)\n"
   ]
  },
  {
   "cell_type": "code",
   "execution_count": 30,
   "metadata": {},
   "outputs": [
    {
     "name": "stdout",
     "output_type": "stream",
     "text": [
      "Train class counts:\n",
      " 1    183\n",
      "0    122\n",
      "Name: Market_Condition, dtype: int64\n",
      "Ratio of class '1' to class '0': 1.5\n",
      "\n",
      "Test class counts:\n",
      " 1    46\n",
      "0    31\n",
      "Name: Market_Condition, dtype: int64\n",
      "Ratio of class '1' to class '0': 1.4838709677419355\n"
     ]
    }
   ],
   "source": [
    "class_counts = y_train.value_counts()\n",
    "\n",
    "# Calculate the ratio\n",
    "ratio_1_to_0 = class_counts[1] / class_counts[0]\n",
    "\n",
    "print(\"Train class counts:\\n\", class_counts)\n",
    "print(\"Ratio of class '1' to class '0':\", ratio_1_to_0)\n",
    "print('')\n",
    "\n",
    "\n",
    "# Count occurrences of each class\n",
    "class_counts = y_test.value_counts()\n",
    "\n",
    "# Calculate the ratio\n",
    "ratio_1_to_0 = class_counts[1] / class_counts[0]\n",
    "\n",
    "print(\"Test class counts:\\n\", class_counts)\n",
    "print(\"Ratio of class '1' to class '0':\", ratio_1_to_0)\n"
   ]
  },
  {
   "cell_type": "code",
   "execution_count": 31,
   "metadata": {},
   "outputs": [
    {
     "data": {
      "text/html": [
       "<div>\n",
       "<style scoped>\n",
       "    .dataframe tbody tr th:only-of-type {\n",
       "        vertical-align: middle;\n",
       "    }\n",
       "\n",
       "    .dataframe tbody tr th {\n",
       "        vertical-align: top;\n",
       "    }\n",
       "\n",
       "    .dataframe thead th {\n",
       "        text-align: right;\n",
       "    }\n",
       "</style>\n",
       "<table border=\"1\" class=\"dataframe\">\n",
       "  <thead>\n",
       "    <tr style=\"text-align: right;\">\n",
       "      <th></th>\n",
       "      <th>coefficients_1</th>\n",
       "      <th>vocabulary_1</th>\n",
       "      <th>coefficients_2</th>\n",
       "      <th>vocabulary_2</th>\n",
       "    </tr>\n",
       "  </thead>\n",
       "  <tbody>\n",
       "    <tr>\n",
       "      <th>0</th>\n",
       "      <td>-0.706045</td>\n",
       "      <td>netflix</td>\n",
       "      <td>0.381522</td>\n",
       "      <td>police</td>\n",
       "    </tr>\n",
       "    <tr>\n",
       "      <th>1</th>\n",
       "      <td>-0.543875</td>\n",
       "      <td>new</td>\n",
       "      <td>0.362692</td>\n",
       "      <td>write</td>\n",
       "    </tr>\n",
       "    <tr>\n",
       "      <th>2</th>\n",
       "      <td>-0.511093</td>\n",
       "      <td>coronavirus</td>\n",
       "      <td>0.359121</td>\n",
       "      <td>day</td>\n",
       "    </tr>\n",
       "    <tr>\n",
       "      <th>3</th>\n",
       "      <td>-0.449420</td>\n",
       "      <td>instagram</td>\n",
       "      <td>0.338447</td>\n",
       "      <td>change</td>\n",
       "    </tr>\n",
       "    <tr>\n",
       "      <th>4</th>\n",
       "      <td>-0.445464</td>\n",
       "      <td>inc.</td>\n",
       "      <td>0.337416</td>\n",
       "      <td>block</td>\n",
       "    </tr>\n",
       "    <tr>\n",
       "      <th>5</th>\n",
       "      <td>-0.415365</td>\n",
       "      <td>review</td>\n",
       "      <td>0.336891</td>\n",
       "      <td>giant</td>\n",
       "    </tr>\n",
       "    <tr>\n",
       "      <th>6</th>\n",
       "      <td>-0.411239</td>\n",
       "      <td>york</td>\n",
       "      <td>0.336798</td>\n",
       "      <td>issue</td>\n",
       "    </tr>\n",
       "    <tr>\n",
       "      <th>7</th>\n",
       "      <td>-0.409977</td>\n",
       "      <td>founder</td>\n",
       "      <td>0.332551</td>\n",
       "      <td>follow</td>\n",
       "    </tr>\n",
       "    <tr>\n",
       "      <th>8</th>\n",
       "      <td>-0.399298</td>\n",
       "      <td>wokka</td>\n",
       "      <td>0.314322</td>\n",
       "      <td>google</td>\n",
       "    </tr>\n",
       "    <tr>\n",
       "      <th>9</th>\n",
       "      <td>-0.393518</td>\n",
       "      <td>project</td>\n",
       "      <td>0.303604</td>\n",
       "      <td>page</td>\n",
       "    </tr>\n",
       "    <tr>\n",
       "      <th>10</th>\n",
       "      <td>-0.393093</td>\n",
       "      <td>alphabet</td>\n",
       "      <td>0.287440</td>\n",
       "      <td>bank</td>\n",
       "    </tr>\n",
       "    <tr>\n",
       "      <th>11</th>\n",
       "      <td>-0.386640</td>\n",
       "      <td>co</td>\n",
       "      <td>0.286451</td>\n",
       "      <td>john</td>\n",
       "    </tr>\n",
       "    <tr>\n",
       "      <th>12</th>\n",
       "      <td>-0.380698</td>\n",
       "      <td>medium</td>\n",
       "      <td>0.282520</td>\n",
       "      <td>teacher</td>\n",
       "    </tr>\n",
       "    <tr>\n",
       "      <th>13</th>\n",
       "      <td>-0.376861</td>\n",
       "      <td>climate</td>\n",
       "      <td>0.282246</td>\n",
       "      <td>datum</td>\n",
       "    </tr>\n",
       "    <tr>\n",
       "      <th>14</th>\n",
       "      <td>-0.376280</td>\n",
       "      <td>search</td>\n",
       "      <td>0.270767</td>\n",
       "      <td>admit</td>\n",
       "    </tr>\n",
       "    <tr>\n",
       "      <th>15</th>\n",
       "      <td>-0.373708</td>\n",
       "      <td>effort</td>\n",
       "      <td>0.268602</td>\n",
       "      <td>spread</td>\n",
       "    </tr>\n",
       "    <tr>\n",
       "      <th>16</th>\n",
       "      <td>-0.364684</td>\n",
       "      <td>thing</td>\n",
       "      <td>0.267068</td>\n",
       "      <td>tweet</td>\n",
       "    </tr>\n",
       "    <tr>\n",
       "      <th>17</th>\n",
       "      <td>-0.363490</td>\n",
       "      <td>social</td>\n",
       "      <td>0.263310</td>\n",
       "      <td>doctor</td>\n",
       "    </tr>\n",
       "    <tr>\n",
       "      <th>18</th>\n",
       "      <td>-0.360981</td>\n",
       "      <td>challenge</td>\n",
       "      <td>0.262942</td>\n",
       "      <td>join</td>\n",
       "    </tr>\n",
       "    <tr>\n",
       "      <th>19</th>\n",
       "      <td>-0.356264</td>\n",
       "      <td>moment</td>\n",
       "      <td>0.262317</td>\n",
       "      <td>private</td>\n",
       "    </tr>\n",
       "  </tbody>\n",
       "</table>\n",
       "</div>"
      ],
      "text/plain": [
       "    coefficients_1 vocabulary_1  coefficients_2 vocabulary_2\n",
       "0        -0.706045      netflix        0.381522       police\n",
       "1        -0.543875          new        0.362692        write\n",
       "2        -0.511093  coronavirus        0.359121          day\n",
       "3        -0.449420    instagram        0.338447       change\n",
       "4        -0.445464         inc.        0.337416        block\n",
       "5        -0.415365       review        0.336891        giant\n",
       "6        -0.411239         york        0.336798        issue\n",
       "7        -0.409977      founder        0.332551       follow\n",
       "8        -0.399298        wokka        0.314322       google\n",
       "9        -0.393518      project        0.303604         page\n",
       "10       -0.393093     alphabet        0.287440         bank\n",
       "11       -0.386640           co        0.286451         john\n",
       "12       -0.380698       medium        0.282520      teacher\n",
       "13       -0.376861      climate        0.282246        datum\n",
       "14       -0.376280       search        0.270767        admit\n",
       "15       -0.373708       effort        0.268602       spread\n",
       "16       -0.364684        thing        0.267068        tweet\n",
       "17       -0.363490       social        0.263310       doctor\n",
       "18       -0.360981    challenge        0.262942         join\n",
       "19       -0.356264       moment        0.262317      private"
      ]
     },
     "execution_count": 31,
     "metadata": {},
     "output_type": "execute_result"
    }
   ],
   "source": [
    "# Assuming the feature names and coefficients align in length\n",
    "feature_names = tfidf_vectorizer.get_feature_names_out()\n",
    "coefficients = logistic_model.coef_.flatten()\n",
    "\n",
    "# Creating the DataFrame directly without dict comprehension to avoid any potential misalignment\n",
    "coef_df = pd.DataFrame(list(zip(coefficients, feature_names)), columns=['coefficients', 'vocabulary'])\n",
    "coef_df.head()\n",
    "\n",
    "\n",
    "# Sort the DataFrame by 'coefficients' in ascending order\n",
    "sorted_coef_df = coef_df.sort_values(by='coefficients')\n",
    "\n",
    "# Select the bottom 20 (smallest coefficients)\n",
    "lowest = sorted_coef_df.head(20).reset_index(drop=True)\n",
    "lowest.columns = [col+'_1' for col in lowest.columns]\n",
    "\n",
    "# Select the top 20 (largest coefficients)\n",
    "highest = sorted_coef_df.tail(20).sort_values(by='coefficients', ascending=False).reset_index(drop=True)\n",
    "highest.columns = [col+'_2' for col in highest.columns]\n",
    "\n",
    "# Concatenate the two resulting DataFrames for comparison\n",
    "comparison_df = pd.concat([lowest, highest], axis=1)\n",
    "\n",
    "comparison_df"
   ]
  },
  {
   "cell_type": "markdown",
   "metadata": {},
   "source": [
    "Despite employing the 'stratify' option in the train_test_split method to maintain proportionate class distributions, the model's performance did not meet expectations.\n",
    "\n",
    "The precision, recall, and F1-score for class 0 are all zero, indicating the model's inability to identify any true positives for the 'Bear' market category. Essentially, the model defaulted to predicting each instance as class 1, the 'Bull' market, which suggests it was unable to distinguish between the two market conditions.\n",
    "\n",
    "This outcome led me to consider that the model's shortcomings might come from an underlying class imbalance issue. To address this, I explored the technique of oversampling the minority class, which in this case is the 'Bear' market category. The subsequent sections will outline the process of class rebalancing through oversampling and the results in model performance."
   ]
  },
  {
   "cell_type": "markdown",
   "metadata": {},
   "source": [
    "## Oversampling"
   ]
  },
  {
   "cell_type": "code",
   "execution_count": 32,
   "metadata": {},
   "outputs": [
    {
     "name": "stdout",
     "output_type": "stream",
     "text": [
      "['Bear' 'Bull']\n",
      "              precision    recall  f1-score   support\n",
      "\n",
      "           0       0.84      0.74      0.79        43\n",
      "           1       0.80      0.88      0.83        49\n",
      "\n",
      "    accuracy                           0.82        92\n",
      "   macro avg       0.82      0.81      0.81        92\n",
      "weighted avg       0.82      0.82      0.81        92\n",
      "\n"
     ]
    }
   ],
   "source": [
    "from sklearn.utils import resample\n",
    "from sklearn.preprocessing import LabelEncoder\n",
    "from sklearn.model_selection import train_test_split\n",
    "from sklearn.linear_model import LogisticRegression\n",
    "from sklearn.metrics import classification_report\n",
    "import pandas as pd\n",
    "\n",
    "# Split by class\n",
    "majority = merged_df_weekly[merged_df_weekly[\"Market_Condition\"] == \"Bull\"]\n",
    "minority = merged_df_weekly[merged_df_weekly[\"Market_Condition\"] == \"Bear\"]\n",
    "\n",
    "# Upsample minority class\n",
    "minority_upsampled = resample(minority,\n",
    "                              replace=True,     # sample with replacement\n",
    "                              n_samples=len(majority),    # to match majority class\n",
    "                              random_state=42)  # reproducible results\n",
    "\n",
    "# Combine majority class with upsampled minority class\n",
    "upsampled = pd.concat([majority, minority_upsampled])\n",
    "\n",
    "# Encode 'Market_Condition' to 0s and 1s\n",
    "label_encoder = LabelEncoder()\n",
    "y_upsampled_encoded = label_encoder.fit_transform(upsampled['Market_Condition'])\n",
    "\n",
    "# Print the mapping to verify which label is 0 and which is 1\n",
    "print(label_encoder.classes_)  # first class being mapped to 0, second to 1\n",
    "\n",
    "# Split the upsampled dataset back into X and y\n",
    "X_upsampled = upsampled.drop(['Market_Condition', 'Weekly_Percentage_Change'], axis=1)\n",
    "\n",
    "# Split the data into training and test sets\n",
    "X_train, X_test, y_train, y_test = train_test_split(X_upsampled, y_upsampled_encoded, test_size=0.2, random_state=42)\n",
    "\n",
    "# Initialize and train the logistic regression model\n",
    "lr_model = LogisticRegression(random_state=42)\n",
    "lr_model.fit(X_train, y_train)\n",
    "\n",
    "# Predict on the test set\n",
    "y_pred = lr_model.predict(X_test)\n",
    "\n",
    "# Evaluate the model\n",
    "print(classification_report(y_test, y_pred))\n"
   ]
  },
  {
   "cell_type": "code",
   "execution_count": 33,
   "metadata": {},
   "outputs": [
    {
     "data": {
      "text/html": [
       "<div>\n",
       "<style scoped>\n",
       "    .dataframe tbody tr th:only-of-type {\n",
       "        vertical-align: middle;\n",
       "    }\n",
       "\n",
       "    .dataframe tbody tr th {\n",
       "        vertical-align: top;\n",
       "    }\n",
       "\n",
       "    .dataframe thead th {\n",
       "        text-align: right;\n",
       "    }\n",
       "</style>\n",
       "<table border=\"1\" class=\"dataframe\">\n",
       "  <thead>\n",
       "    <tr style=\"text-align: right;\">\n",
       "      <th></th>\n",
       "      <th>coefficients_1</th>\n",
       "      <th>vocabulary_1</th>\n",
       "      <th>coefficients_2</th>\n",
       "      <th>vocabulary_2</th>\n",
       "    </tr>\n",
       "  </thead>\n",
       "  <tbody>\n",
       "    <tr>\n",
       "      <th>0</th>\n",
       "      <td>-0.994463</td>\n",
       "      <td>instagram</td>\n",
       "      <td>0.674578</td>\n",
       "      <td>apple</td>\n",
       "    </tr>\n",
       "    <tr>\n",
       "      <th>1</th>\n",
       "      <td>-0.681186</td>\n",
       "      <td>new</td>\n",
       "      <td>0.597972</td>\n",
       "      <td>ceo</td>\n",
       "    </tr>\n",
       "    <tr>\n",
       "      <th>2</th>\n",
       "      <td>-0.631041</td>\n",
       "      <td>search</td>\n",
       "      <td>0.509198</td>\n",
       "      <td>write</td>\n",
       "    </tr>\n",
       "    <tr>\n",
       "      <th>3</th>\n",
       "      <td>-0.570428</td>\n",
       "      <td>book</td>\n",
       "      <td>0.436564</td>\n",
       "      <td>’</td>\n",
       "    </tr>\n",
       "    <tr>\n",
       "      <th>4</th>\n",
       "      <td>-0.568479</td>\n",
       "      <td>review</td>\n",
       "      <td>0.424302</td>\n",
       "      <td>support</td>\n",
       "    </tr>\n",
       "    <tr>\n",
       "      <th>5</th>\n",
       "      <td>-0.558556</td>\n",
       "      <td>facebook</td>\n",
       "      <td>0.412523</td>\n",
       "      <td>issue</td>\n",
       "    </tr>\n",
       "    <tr>\n",
       "      <th>6</th>\n",
       "      <td>-0.556850</td>\n",
       "      <td>compare</td>\n",
       "      <td>0.400334</td>\n",
       "      <td>life</td>\n",
       "    </tr>\n",
       "    <tr>\n",
       "      <th>7</th>\n",
       "      <td>-0.548406</td>\n",
       "      <td>man</td>\n",
       "      <td>0.394362</td>\n",
       "      <td>word</td>\n",
       "    </tr>\n",
       "    <tr>\n",
       "      <th>8</th>\n",
       "      <td>-0.536295</td>\n",
       "      <td>educational</td>\n",
       "      <td>0.392295</td>\n",
       "      <td>article</td>\n",
       "    </tr>\n",
       "    <tr>\n",
       "      <th>9</th>\n",
       "      <td>-0.521765</td>\n",
       "      <td>election</td>\n",
       "      <td>0.389849</td>\n",
       "      <td>join</td>\n",
       "    </tr>\n",
       "    <tr>\n",
       "      <th>10</th>\n",
       "      <td>-0.519529</td>\n",
       "      <td>coronavirus</td>\n",
       "      <td>0.377255</td>\n",
       "      <td>giant</td>\n",
       "    </tr>\n",
       "    <tr>\n",
       "      <th>11</th>\n",
       "      <td>-0.516845</td>\n",
       "      <td>team</td>\n",
       "      <td>0.360278</td>\n",
       "      <td>government</td>\n",
       "    </tr>\n",
       "    <tr>\n",
       "      <th>12</th>\n",
       "      <td>-0.508328</td>\n",
       "      <td>reduce</td>\n",
       "      <td>0.358468</td>\n",
       "      <td>service</td>\n",
       "    </tr>\n",
       "    <tr>\n",
       "      <th>13</th>\n",
       "      <td>-0.505515</td>\n",
       "      <td>social</td>\n",
       "      <td>0.356895</td>\n",
       "      <td>tweet</td>\n",
       "    </tr>\n",
       "    <tr>\n",
       "      <th>14</th>\n",
       "      <td>-0.503169</td>\n",
       "      <td>disclose</td>\n",
       "      <td>0.349844</td>\n",
       "      <td>accuse</td>\n",
       "    </tr>\n",
       "    <tr>\n",
       "      <th>15</th>\n",
       "      <td>-0.479516</td>\n",
       "      <td>regard</td>\n",
       "      <td>0.349280</td>\n",
       "      <td>movie</td>\n",
       "    </tr>\n",
       "    <tr>\n",
       "      <th>16</th>\n",
       "      <td>-0.472546</td>\n",
       "      <td>2016</td>\n",
       "      <td>0.348311</td>\n",
       "      <td>child</td>\n",
       "    </tr>\n",
       "    <tr>\n",
       "      <th>17</th>\n",
       "      <td>-0.470579</td>\n",
       "      <td>lawyer</td>\n",
       "      <td>0.338693</td>\n",
       "      <td>spread</td>\n",
       "    </tr>\n",
       "    <tr>\n",
       "      <th>18</th>\n",
       "      <td>-0.467807</td>\n",
       "      <td>cite</td>\n",
       "      <td>0.334838</td>\n",
       "      <td>morning</td>\n",
       "    </tr>\n",
       "    <tr>\n",
       "      <th>19</th>\n",
       "      <td>-0.461686</td>\n",
       "      <td>moment</td>\n",
       "      <td>0.329535</td>\n",
       "      <td>john</td>\n",
       "    </tr>\n",
       "  </tbody>\n",
       "</table>\n",
       "</div>"
      ],
      "text/plain": [
       "    coefficients_1 vocabulary_1  coefficients_2 vocabulary_2\n",
       "0        -0.994463    instagram        0.674578        apple\n",
       "1        -0.681186          new        0.597972          ceo\n",
       "2        -0.631041       search        0.509198        write\n",
       "3        -0.570428         book        0.436564            ’\n",
       "4        -0.568479       review        0.424302      support\n",
       "5        -0.558556     facebook        0.412523        issue\n",
       "6        -0.556850      compare        0.400334         life\n",
       "7        -0.548406          man        0.394362         word\n",
       "8        -0.536295  educational        0.392295      article\n",
       "9        -0.521765     election        0.389849         join\n",
       "10       -0.519529  coronavirus        0.377255        giant\n",
       "11       -0.516845         team        0.360278   government\n",
       "12       -0.508328       reduce        0.358468      service\n",
       "13       -0.505515       social        0.356895        tweet\n",
       "14       -0.503169     disclose        0.349844       accuse\n",
       "15       -0.479516       regard        0.349280        movie\n",
       "16       -0.472546         2016        0.348311        child\n",
       "17       -0.470579       lawyer        0.338693       spread\n",
       "18       -0.467807         cite        0.334838      morning\n",
       "19       -0.461686       moment        0.329535         john"
      ]
     },
     "execution_count": 33,
     "metadata": {},
     "output_type": "execute_result"
    }
   ],
   "source": [
    "feature_names = tfidf_vectorizer.get_feature_names_out()\n",
    "coefficients = lr_model.coef_.flatten()\n",
    "\n",
    "# Creating the DataFrame directly without dict comprehension to avoid any potential misalignment\n",
    "coef_df = pd.DataFrame(list(zip(coefficients, feature_names)), columns=['coefficients', 'vocabulary'])\n",
    "\n",
    "# Sort the DataFrame by 'coefficients' in ascending order\n",
    "sorted_coef_df = coef_df.sort_values(by='coefficients')\n",
    "\n",
    "# Select the bottom 20 (smallest coefficients)\n",
    "lowest = sorted_coef_df.head(20).reset_index(drop=True)\n",
    "lowest.columns = [col+'_1' for col in lowest.columns]\n",
    "\n",
    "# Select the top 20 (largest coefficients)\n",
    "highest = sorted_coef_df.tail(20).sort_values(by='coefficients', ascending=False).reset_index(drop=True)\n",
    "highest.columns = [col+'_2' for col in highest.columns]\n",
    "\n",
    "# Concatenate the two resulting DataFrames for comparison\n",
    "comparison_df = pd.concat([lowest, highest], axis=1)\n",
    "\n",
    "comparison_df\n"
   ]
  },
  {
   "cell_type": "markdown",
   "metadata": {},
   "source": [
    "The unsampled logistic regression model favored the 'Bull' market predictions, completely missing the 'Bear' market with a 0% precision and recall for class 0. After resampling to balance classes, the model's performance improved dramatically, achieving high precision (0.97) and good recall (0.66) for 'Bear' markets, and decent precision (0.73) with excellent recall (0.98) for 'Bull' markets. Overall accuracy rose from 60% to 82%, indicating a more balanced and effective model post-resampling."
   ]
  },
  {
   "cell_type": "code",
   "execution_count": 34,
   "metadata": {},
   "outputs": [
    {
     "name": "stdout",
     "output_type": "stream",
     "text": [
      "(229, 5174)\n",
      "(153, 5174)\n"
     ]
    }
   ],
   "source": [
    "print(majority.shape)\n",
    "print(minority.shape)"
   ]
  },
  {
   "cell_type": "markdown",
   "metadata": {},
   "source": [
    "## Undersampling\n"
   ]
  },
  {
   "cell_type": "code",
   "execution_count": 35,
   "metadata": {},
   "outputs": [
    {
     "name": "stdout",
     "output_type": "stream",
     "text": [
      "['Bear' 'Bull']\n",
      "              precision    recall  f1-score   support\n",
      "\n",
      "           0       0.44      0.53      0.48        30\n",
      "           1       0.46      0.38      0.41        32\n",
      "\n",
      "    accuracy                           0.45        62\n",
      "   macro avg       0.45      0.45      0.45        62\n",
      "weighted avg       0.45      0.45      0.45        62\n",
      "\n"
     ]
    }
   ],
   "source": [
    "# Split by class\n",
    "majority = merged_df_weekly[merged_df_weekly[\"Market_Condition\"] == \"Bull\"]\n",
    "minority = merged_df_weekly[merged_df_weekly[\"Market_Condition\"] == \"Bear\"]\n",
    "\n",
    "# Undersample majority class\n",
    "majority_undersampled = resample(majority,\n",
    "                                 replace=False,    # sample without replacement\n",
    "                                 n_samples=len(minority),  # to match minority class\n",
    "                                 random_state=42)   # reproducible results\n",
    "\n",
    "# Combine undersampled majority class with minority class\n",
    "balanced_df = pd.concat([majority_undersampled, minority])\n",
    "\n",
    "# Encode 'Market_Condition' to 0s and 1s\n",
    "label_encoder = LabelEncoder()\n",
    "y_undersampled_encoded = label_encoder.fit_transform(balanced_df['Market_Condition'])\n",
    "\n",
    "# Print the mapping to verify which label is 0 and which is 1\n",
    "print(label_encoder.classes_)  # first class being mapped to 0, second to 1\n",
    "\n",
    "# Split the balanced dataset back into X and y\n",
    "X_undersampled = balanced_df.drop(['Market_Condition', 'Weekly_Percentage_Change'], axis=1)\n",
    "\n",
    "# Split the data into training and test sets\n",
    "X_train, X_test, y_train, y_test = train_test_split(X_undersampled, y_undersampled_encoded, test_size=0.2, random_state=42)\n",
    "\n",
    "# Initialize and train the logistic regression model\n",
    "lr_model2 = LogisticRegression(random_state=42)\n",
    "lr_model2.fit(X_train, y_train)\n",
    "\n",
    "# Predict on the test set\n",
    "y_pred = lr_model2.predict(X_test)\n",
    "\n",
    "# Evaluate the model\n",
    "print(classification_report(y_test, y_pred))"
   ]
  },
  {
   "cell_type": "code",
   "execution_count": 36,
   "metadata": {},
   "outputs": [
    {
     "data": {
      "text/html": [
       "<div>\n",
       "<style scoped>\n",
       "    .dataframe tbody tr th:only-of-type {\n",
       "        vertical-align: middle;\n",
       "    }\n",
       "\n",
       "    .dataframe tbody tr th {\n",
       "        vertical-align: top;\n",
       "    }\n",
       "\n",
       "    .dataframe thead th {\n",
       "        text-align: right;\n",
       "    }\n",
       "</style>\n",
       "<table border=\"1\" class=\"dataframe\">\n",
       "  <thead>\n",
       "    <tr style=\"text-align: right;\">\n",
       "      <th></th>\n",
       "      <th>coefficients_1</th>\n",
       "      <th>vocabulary_1</th>\n",
       "      <th>coefficients_2</th>\n",
       "      <th>vocabulary_2</th>\n",
       "    </tr>\n",
       "  </thead>\n",
       "  <tbody>\n",
       "    <tr>\n",
       "      <th>0</th>\n",
       "      <td>-0.629570</td>\n",
       "      <td>new</td>\n",
       "      <td>0.505759</td>\n",
       "      <td>google</td>\n",
       "    </tr>\n",
       "    <tr>\n",
       "      <th>1</th>\n",
       "      <td>-0.490266</td>\n",
       "      <td>check</td>\n",
       "      <td>0.424900</td>\n",
       "      <td>police</td>\n",
       "    </tr>\n",
       "    <tr>\n",
       "      <th>2</th>\n",
       "      <td>-0.462285</td>\n",
       "      <td>search</td>\n",
       "      <td>0.391663</td>\n",
       "      <td>day</td>\n",
       "    </tr>\n",
       "    <tr>\n",
       "      <th>3</th>\n",
       "      <td>-0.447334</td>\n",
       "      <td>facebook</td>\n",
       "      <td>0.385245</td>\n",
       "      <td>’</td>\n",
       "    </tr>\n",
       "    <tr>\n",
       "      <th>4</th>\n",
       "      <td>-0.420297</td>\n",
       "      <td>instagram</td>\n",
       "      <td>0.353762</td>\n",
       "      <td>block</td>\n",
       "    </tr>\n",
       "    <tr>\n",
       "      <th>5</th>\n",
       "      <td>-0.405696</td>\n",
       "      <td>music</td>\n",
       "      <td>0.353719</td>\n",
       "      <td>car</td>\n",
       "    </tr>\n",
       "    <tr>\n",
       "      <th>6</th>\n",
       "      <td>-0.388461</td>\n",
       "      <td>tell</td>\n",
       "      <td>0.350397</td>\n",
       "      <td>form</td>\n",
       "    </tr>\n",
       "    <tr>\n",
       "      <th>7</th>\n",
       "      <td>-0.386798</td>\n",
       "      <td>billion</td>\n",
       "      <td>0.338391</td>\n",
       "      <td>realize</td>\n",
       "    </tr>\n",
       "    <tr>\n",
       "      <th>8</th>\n",
       "      <td>-0.384681</td>\n",
       "      <td>website</td>\n",
       "      <td>0.335607</td>\n",
       "      <td>video</td>\n",
       "    </tr>\n",
       "    <tr>\n",
       "      <th>9</th>\n",
       "      <td>-0.327535</td>\n",
       "      <td>2016</td>\n",
       "      <td>0.313670</td>\n",
       "      <td>lawsuit</td>\n",
       "    </tr>\n",
       "    <tr>\n",
       "      <th>10</th>\n",
       "      <td>-0.321661</td>\n",
       "      <td>wokka</td>\n",
       "      <td>0.310640</td>\n",
       "      <td>dozen</td>\n",
       "    </tr>\n",
       "    <tr>\n",
       "      <th>11</th>\n",
       "      <td>-0.313355</td>\n",
       "      <td>2012</td>\n",
       "      <td>0.305887</td>\n",
       "      <td>world</td>\n",
       "    </tr>\n",
       "    <tr>\n",
       "      <th>12</th>\n",
       "      <td>-0.312498</td>\n",
       "      <td>little</td>\n",
       "      <td>0.305152</td>\n",
       "      <td>spread</td>\n",
       "    </tr>\n",
       "    <tr>\n",
       "      <th>13</th>\n",
       "      <td>-0.311508</td>\n",
       "      <td>netflix</td>\n",
       "      <td>0.304867</td>\n",
       "      <td>hour</td>\n",
       "    </tr>\n",
       "    <tr>\n",
       "      <th>14</th>\n",
       "      <td>-0.310545</td>\n",
       "      <td>regard</td>\n",
       "      <td>0.303677</td>\n",
       "      <td>real</td>\n",
       "    </tr>\n",
       "    <tr>\n",
       "      <th>15</th>\n",
       "      <td>-0.307721</td>\n",
       "      <td>alphabet</td>\n",
       "      <td>0.302736</td>\n",
       "      <td>article</td>\n",
       "    </tr>\n",
       "    <tr>\n",
       "      <th>16</th>\n",
       "      <td>-0.303850</td>\n",
       "      <td>week</td>\n",
       "      <td>0.302013</td>\n",
       "      <td>iphone</td>\n",
       "    </tr>\n",
       "    <tr>\n",
       "      <th>17</th>\n",
       "      <td>-0.302180</td>\n",
       "      <td>climate</td>\n",
       "      <td>0.299388</td>\n",
       "      <td>couple</td>\n",
       "    </tr>\n",
       "    <tr>\n",
       "      <th>18</th>\n",
       "      <td>-0.293539</td>\n",
       "      <td>deal</td>\n",
       "      <td>0.295299</td>\n",
       "      <td>ceo</td>\n",
       "    </tr>\n",
       "    <tr>\n",
       "      <th>19</th>\n",
       "      <td>-0.289580</td>\n",
       "      <td>social</td>\n",
       "      <td>0.294799</td>\n",
       "      <td>security</td>\n",
       "    </tr>\n",
       "  </tbody>\n",
       "</table>\n",
       "</div>"
      ],
      "text/plain": [
       "    coefficients_1 vocabulary_1  coefficients_2 vocabulary_2\n",
       "0        -0.629570          new        0.505759       google\n",
       "1        -0.490266        check        0.424900       police\n",
       "2        -0.462285       search        0.391663          day\n",
       "3        -0.447334     facebook        0.385245            ’\n",
       "4        -0.420297    instagram        0.353762        block\n",
       "5        -0.405696        music        0.353719          car\n",
       "6        -0.388461         tell        0.350397         form\n",
       "7        -0.386798      billion        0.338391      realize\n",
       "8        -0.384681      website        0.335607        video\n",
       "9        -0.327535         2016        0.313670      lawsuit\n",
       "10       -0.321661        wokka        0.310640        dozen\n",
       "11       -0.313355         2012        0.305887        world\n",
       "12       -0.312498       little        0.305152       spread\n",
       "13       -0.311508      netflix        0.304867         hour\n",
       "14       -0.310545       regard        0.303677         real\n",
       "15       -0.307721     alphabet        0.302736      article\n",
       "16       -0.303850         week        0.302013       iphone\n",
       "17       -0.302180      climate        0.299388       couple\n",
       "18       -0.293539         deal        0.295299          ceo\n",
       "19       -0.289580       social        0.294799     security"
      ]
     },
     "execution_count": 36,
     "metadata": {},
     "output_type": "execute_result"
    }
   ],
   "source": [
    "feature_names = tfidf_vectorizer.get_feature_names_out()\n",
    "coefficients = lr_model2.coef_.flatten()\n",
    "\n",
    "# Creating the DataFrame directly without dict comprehension to avoid any potential misalignment\n",
    "coef_df = pd.DataFrame(list(zip(coefficients, feature_names)), columns=['coefficients', 'vocabulary'])\n",
    "\n",
    "# Sort the DataFrame by 'coefficients' in ascending order\n",
    "sorted_coef_df = coef_df.sort_values(by='coefficients')\n",
    "\n",
    "# Select the bottom 20 (smallest coefficients)\n",
    "lowest = sorted_coef_df.head(20).reset_index(drop=True)\n",
    "lowest.columns = [col+'_1' for col in lowest.columns]\n",
    "\n",
    "# Select the top 20 (largest coefficients)\n",
    "highest = sorted_coef_df.tail(20).sort_values(by='coefficients', ascending=False).reset_index(drop=True)\n",
    "highest.columns = [col+'_2' for col in highest.columns]\n",
    "\n",
    "# Concatenate the two resulting DataFrames for comparison\n",
    "comparison_df = pd.concat([lowest, highest], axis=1)\n",
    "\n",
    "comparison_df"
   ]
  },
  {
   "cell_type": "markdown",
   "metadata": {},
   "source": [
    "The analysis of the top 20 words with the highest and lowest coefficients reveals no strong indicators of market direction. Positive coefficients feature company names and products like Google, cloud, and iPad, but no clear pattern emerges. Similarly, negative coefficients include company names such as SpaceX, Insta, SolarCity, Hulu, Facebook, and terms like 'chatbot,' with 'problem' notably associated with negative sentiment. The presence of competitor company names in the negative coefficient list may suggest an inverse relationship to the performance of the major firms studied. Overall, the vocabulary does not provide a definitive guide to predicting market movements."
   ]
  },
  {
   "cell_type": "markdown",
   "metadata": {},
   "source": [
    "## 5. Multinomial Naive Bayes"
   ]
  },
  {
   "cell_type": "code",
   "execution_count": 37,
   "metadata": {},
   "outputs": [
    {
     "data": {
      "text/html": [
       "<div>\n",
       "<style scoped>\n",
       "    .dataframe tbody tr th:only-of-type {\n",
       "        vertical-align: middle;\n",
       "    }\n",
       "\n",
       "    .dataframe tbody tr th {\n",
       "        vertical-align: top;\n",
       "    }\n",
       "\n",
       "    .dataframe thead th {\n",
       "        text-align: right;\n",
       "    }\n",
       "</style>\n",
       "<table border=\"1\" class=\"dataframe\">\n",
       "  <thead>\n",
       "    <tr style=\"text-align: right;\">\n",
       "      <th></th>\n",
       "      <th>$</th>\n",
       "      <th>+</th>\n",
       "      <th>+44</th>\n",
       "      <th>--harita</th>\n",
       "      <th>-0.14</th>\n",
       "      <th>-and</th>\n",
       "      <th>.32</th>\n",
       "      <th>.jpeg</th>\n",
       "      <th>00</th>\n",
       "      <th>04:24</th>\n",
       "      <th>...</th>\n",
       "      <th>zuckerberg</th>\n",
       "      <th>zuckerborg</th>\n",
       "      <th>zuckerburg</th>\n",
       "      <th>zvelo</th>\n",
       "      <th>|</th>\n",
       "      <th>£</th>\n",
       "      <th>’</th>\n",
       "      <th>👋</th>\n",
       "      <th>Weekly_Percentage_Change</th>\n",
       "      <th>Market_Condition</th>\n",
       "    </tr>\n",
       "  </thead>\n",
       "  <tbody>\n",
       "    <tr>\n",
       "      <th>2012-02-12</th>\n",
       "      <td>0.000000</td>\n",
       "      <td>0.0</td>\n",
       "      <td>0.0</td>\n",
       "      <td>0.0</td>\n",
       "      <td>0.0</td>\n",
       "      <td>0.0</td>\n",
       "      <td>0.0</td>\n",
       "      <td>0.0</td>\n",
       "      <td>0.0</td>\n",
       "      <td>0.0</td>\n",
       "      <td>...</td>\n",
       "      <td>0.0</td>\n",
       "      <td>0.0</td>\n",
       "      <td>0.0</td>\n",
       "      <td>0.133644</td>\n",
       "      <td>0.0</td>\n",
       "      <td>0.0</td>\n",
       "      <td>0.0</td>\n",
       "      <td>0.0</td>\n",
       "      <td>2.023762</td>\n",
       "      <td>Bull</td>\n",
       "    </tr>\n",
       "    <tr>\n",
       "      <th>2012-02-19</th>\n",
       "      <td>0.059464</td>\n",
       "      <td>0.0</td>\n",
       "      <td>0.0</td>\n",
       "      <td>0.0</td>\n",
       "      <td>0.0</td>\n",
       "      <td>0.0</td>\n",
       "      <td>0.0</td>\n",
       "      <td>0.0</td>\n",
       "      <td>0.0</td>\n",
       "      <td>0.0</td>\n",
       "      <td>...</td>\n",
       "      <td>0.0</td>\n",
       "      <td>0.0</td>\n",
       "      <td>0.0</td>\n",
       "      <td>0.000000</td>\n",
       "      <td>0.0</td>\n",
       "      <td>0.0</td>\n",
       "      <td>0.0</td>\n",
       "      <td>0.0</td>\n",
       "      <td>1.564837</td>\n",
       "      <td>Bull</td>\n",
       "    </tr>\n",
       "    <tr>\n",
       "      <th>2012-02-26</th>\n",
       "      <td>0.000000</td>\n",
       "      <td>0.0</td>\n",
       "      <td>0.0</td>\n",
       "      <td>0.0</td>\n",
       "      <td>0.0</td>\n",
       "      <td>0.0</td>\n",
       "      <td>0.0</td>\n",
       "      <td>0.0</td>\n",
       "      <td>0.0</td>\n",
       "      <td>0.0</td>\n",
       "      <td>...</td>\n",
       "      <td>0.0</td>\n",
       "      <td>0.0</td>\n",
       "      <td>0.0</td>\n",
       "      <td>0.000000</td>\n",
       "      <td>0.0</td>\n",
       "      <td>0.0</td>\n",
       "      <td>0.0</td>\n",
       "      <td>0.0</td>\n",
       "      <td>0.945408</td>\n",
       "      <td>Bull</td>\n",
       "    </tr>\n",
       "    <tr>\n",
       "      <th>2012-03-04</th>\n",
       "      <td>0.000000</td>\n",
       "      <td>0.0</td>\n",
       "      <td>0.0</td>\n",
       "      <td>0.0</td>\n",
       "      <td>0.0</td>\n",
       "      <td>0.0</td>\n",
       "      <td>0.0</td>\n",
       "      <td>0.0</td>\n",
       "      <td>0.0</td>\n",
       "      <td>0.0</td>\n",
       "      <td>...</td>\n",
       "      <td>0.0</td>\n",
       "      <td>0.0</td>\n",
       "      <td>0.0</td>\n",
       "      <td>0.000000</td>\n",
       "      <td>0.0</td>\n",
       "      <td>0.0</td>\n",
       "      <td>0.0</td>\n",
       "      <td>0.0</td>\n",
       "      <td>1.950662</td>\n",
       "      <td>Bull</td>\n",
       "    </tr>\n",
       "    <tr>\n",
       "      <th>2012-03-11</th>\n",
       "      <td>0.000000</td>\n",
       "      <td>0.0</td>\n",
       "      <td>0.0</td>\n",
       "      <td>0.0</td>\n",
       "      <td>0.0</td>\n",
       "      <td>0.0</td>\n",
       "      <td>0.0</td>\n",
       "      <td>0.0</td>\n",
       "      <td>0.0</td>\n",
       "      <td>0.0</td>\n",
       "      <td>...</td>\n",
       "      <td>0.0</td>\n",
       "      <td>0.0</td>\n",
       "      <td>0.0</td>\n",
       "      <td>0.000000</td>\n",
       "      <td>0.0</td>\n",
       "      <td>0.0</td>\n",
       "      <td>0.0</td>\n",
       "      <td>0.0</td>\n",
       "      <td>-0.591705</td>\n",
       "      <td>Bear</td>\n",
       "    </tr>\n",
       "  </tbody>\n",
       "</table>\n",
       "<p>5 rows × 5174 columns</p>\n",
       "</div>"
      ],
      "text/plain": [
       "                   $    +  +44  --harita  -0.14  -and  .32  .jpeg   00  04:24  \\\n",
       "2012-02-12  0.000000  0.0  0.0       0.0    0.0   0.0  0.0    0.0  0.0    0.0   \n",
       "2012-02-19  0.059464  0.0  0.0       0.0    0.0   0.0  0.0    0.0  0.0    0.0   \n",
       "2012-02-26  0.000000  0.0  0.0       0.0    0.0   0.0  0.0    0.0  0.0    0.0   \n",
       "2012-03-04  0.000000  0.0  0.0       0.0    0.0   0.0  0.0    0.0  0.0    0.0   \n",
       "2012-03-11  0.000000  0.0  0.0       0.0    0.0   0.0  0.0    0.0  0.0    0.0   \n",
       "\n",
       "            ...  zuckerberg  zuckerborg  zuckerburg     zvelo    |    £    ’  \\\n",
       "2012-02-12  ...         0.0         0.0         0.0  0.133644  0.0  0.0  0.0   \n",
       "2012-02-19  ...         0.0         0.0         0.0  0.000000  0.0  0.0  0.0   \n",
       "2012-02-26  ...         0.0         0.0         0.0  0.000000  0.0  0.0  0.0   \n",
       "2012-03-04  ...         0.0         0.0         0.0  0.000000  0.0  0.0  0.0   \n",
       "2012-03-11  ...         0.0         0.0         0.0  0.000000  0.0  0.0  0.0   \n",
       "\n",
       "              👋  Weekly_Percentage_Change  Market_Condition  \n",
       "2012-02-12  0.0                  2.023762              Bull  \n",
       "2012-02-19  0.0                  1.564837              Bull  \n",
       "2012-02-26  0.0                  0.945408              Bull  \n",
       "2012-03-04  0.0                  1.950662              Bull  \n",
       "2012-03-11  0.0                 -0.591705              Bear  \n",
       "\n",
       "[5 rows x 5174 columns]"
      ]
     },
     "execution_count": 37,
     "metadata": {},
     "output_type": "execute_result"
    }
   ],
   "source": [
    "merged_df_weekly.head()"
   ]
  },
  {
   "cell_type": "code",
   "execution_count": 38,
   "metadata": {},
   "outputs": [
    {
     "name": "stdout",
     "output_type": "stream",
     "text": [
      "              precision    recall  f1-score   support\n",
      "\n",
      "           0       0.00      0.00      0.00        31\n",
      "           1       0.60      1.00      0.75        46\n",
      "\n",
      "    accuracy                           0.60        77\n",
      "   macro avg       0.30      0.50      0.37        77\n",
      "weighted avg       0.36      0.60      0.45        77\n",
      "\n"
     ]
    },
    {
     "name": "stderr",
     "output_type": "stream",
     "text": [
      "/Users/minwoo/anaconda3/lib/python3.11/site-packages/sklearn/metrics/_classification.py:1344: UndefinedMetricWarning: Precision and F-score are ill-defined and being set to 0.0 in labels with no predicted samples. Use `zero_division` parameter to control this behavior.\n",
      "  _warn_prf(average, modifier, msg_start, len(result))\n",
      "/Users/minwoo/anaconda3/lib/python3.11/site-packages/sklearn/metrics/_classification.py:1344: UndefinedMetricWarning: Precision and F-score are ill-defined and being set to 0.0 in labels with no predicted samples. Use `zero_division` parameter to control this behavior.\n",
      "  _warn_prf(average, modifier, msg_start, len(result))\n",
      "/Users/minwoo/anaconda3/lib/python3.11/site-packages/sklearn/metrics/_classification.py:1344: UndefinedMetricWarning: Precision and F-score are ill-defined and being set to 0.0 in labels with no predicted samples. Use `zero_division` parameter to control this behavior.\n",
      "  _warn_prf(average, modifier, msg_start, len(result))\n"
     ]
    }
   ],
   "source": [
    "from sklearn.naive_bayes import MultinomialNB  \n",
    "\n",
    "# Drop 'Market_Condition' and 'Weekly_Percentage_Change' to define your features\n",
    "X = merged_df_weekly.drop(['Market_Condition', 'Weekly_Percentage_Change'], axis=1)\n",
    "# Define your target variable\n",
    "y = merged_df_weekly['Market_Condition']\n",
    "\n",
    "# Encode the target variable (if it's not already numerical)\n",
    "y_encoded = y.apply(lambda x: 1 if x == 'Bull' else 0)\n",
    "\n",
    "# Train-test split with stratification to ensure that your training and testing sets have a similar proportion of class labels\n",
    "X_train, X_test, y_train, y_test = train_test_split(X, y_encoded, test_size=0.2, random_state=42, stratify=y_encoded)\n",
    "\n",
    "# Initialize and train the Multinomial Naive Bayes model\n",
    "# Note: MultinomialNB doesn't require setting a maximum number of iterations\n",
    "nb_model = MultinomialNB()\n",
    "nb_model.fit(X_train, y_train)\n",
    "\n",
    "# Predict on the test set\n",
    "y_pred = nb_model.predict(X_test)\n",
    "\n",
    "# Evaluate the model\n",
    "report = classification_report(y_test, y_pred)\n",
    "print(report)\n"
   ]
  },
  {
   "cell_type": "code",
   "execution_count": 39,
   "metadata": {},
   "outputs": [
    {
     "name": "stdout",
     "output_type": "stream",
     "text": [
      "           Decrease  Increase\n",
      "facebook  -6.429462 -6.203588\n",
      "apple     -6.808088 -6.622167\n",
      "google    -7.040735 -6.608143\n",
      "amazon    -7.194039 -6.864853\n",
      "new       -7.247151 -7.357200\n",
      "post      -7.366788 -7.200233\n",
      "like      -7.370864 -7.311315\n",
      "twitter   -7.446548 -7.368784\n",
      "social    -7.531967       NaN\n",
      "company   -7.551956 -7.415037\n",
      "medium    -7.554758       NaN\n",
      "photo     -7.599780       NaN\n",
      "year      -7.606771 -7.425783\n",
      "come      -7.664565       NaN\n",
      "tesla     -7.665926       NaN\n",
      "check     -7.676051       NaN\n",
      "people    -7.694968 -7.522927\n",
      "week      -7.698043 -7.555665\n",
      "instagram -7.706240       NaN\n",
      "use       -7.715599 -7.518594\n",
      "page            NaN -7.325046\n",
      "ceo             NaN -7.347892\n",
      "day             NaN -7.420067\n",
      "write           NaN -7.471546\n",
      "change          NaN -7.473412\n",
      "world           NaN -7.484786\n",
      "friend          NaN -7.555349\n"
     ]
    }
   ],
   "source": [
    "# Get feature names\n",
    "feature_names = tfidf_vectorizer.get_feature_names_out()\n",
    "\n",
    "# Get log probabilities of each feature for each class\n",
    "log_prob = nb_model.feature_log_prob_\n",
    "\n",
    "# Convert log probabilities to DataFrame for easier manipulation\n",
    "df_feature_importances = pd.DataFrame(log_prob, columns=feature_names).T\n",
    "\n",
    "# Now df_feature_importances[0] corresponds to 'decrease', df_feature_importances[1] corresponds to 'increase'\n",
    "\n",
    "# Top 20 words increasing the chance of 'decrease'\n",
    "top_decreasing = df_feature_importances[0].sort_values(ascending=False).head(20)\n",
    "\n",
    "# Top 20 words increasing the chance of 'increase'\n",
    "top_increasing = df_feature_importances[1].sort_values(ascending=False).head(20)\n",
    "\n",
    "# Combine for comparison\n",
    "comparison_df = pd.concat([top_decreasing, top_increasing], axis=1, keys=['Decrease', 'Increase'])\n",
    "\n",
    "print(comparison_df)"
   ]
  },
  {
   "cell_type": "markdown",
   "metadata": {},
   "source": [
    "The Multinomial Naive Bayes model results indicate that the model is predicting all instances as class 1, with no true positives for class 0 (precision, recall, and F1-score are all 0.00 for class 0). The model has an overall accuracy of 60%, but this is entirely due to its predictions for class 1, where it has a recall of 1.00 – meaning it correctly identified all actual class 1 instances, but it fails to recognize any instance of class 0.\n",
    "\n",
    "To mitigate this issue, I applied a similar balancing approach as was done for the logistic regression, aiming to create a more equitable representation of both classes."
   ]
  },
  {
   "cell_type": "markdown",
   "metadata": {},
   "source": [
    "## Oversample"
   ]
  },
  {
   "cell_type": "code",
   "execution_count": 40,
   "metadata": {},
   "outputs": [
    {
     "name": "stdout",
     "output_type": "stream",
     "text": [
      "              precision    recall  f1-score   support\n",
      "\n",
      "           0       0.59      0.84      0.69        43\n",
      "           1       0.77      0.49      0.60        49\n",
      "\n",
      "    accuracy                           0.65        92\n",
      "   macro avg       0.68      0.66      0.65        92\n",
      "weighted avg       0.69      0.65      0.64        92\n",
      "\n"
     ]
    }
   ],
   "source": [
    "from sklearn.naive_bayes import MultinomialNB  \n",
    "from sklearn.metrics import classification_report\n",
    "\n",
    "# X_upsampled' and 'y_upsampled_encoded' are from the logistic regression preparation code\n",
    "\n",
    "# Split the balanced data into training and test sets\n",
    "X_train, X_test, y_train, y_test = train_test_split(X_upsampled, y_upsampled_encoded, test_size=0.2, random_state=42)\n",
    "\n",
    "# Initialize and train the Multinomial Naive Bayes model\n",
    "nb_model_balanced = MultinomialNB()\n",
    "nb_model_balanced.fit(X_train, y_train)\n",
    "\n",
    "# Predict on the test set\n",
    "y_pred_balanced = nb_model_balanced.predict(X_test)\n",
    "\n",
    "# Evaluate the model using the balanced dataset\n",
    "report_balanced = classification_report(y_test, y_pred_balanced)\n",
    "print(report_balanced)\n"
   ]
  },
  {
   "cell_type": "markdown",
   "metadata": {},
   "source": [
    "The oversampled model demonstrates improved balance in recognizing both market conditions. Class 0 shows a signifi-cant improvement with a precision of 0.59, recall of 0.84, and F1-score of 0.69. Class 1's metrics, however, decrease com-pared to the baseline, with a precision of 0.77, recall of 0.49, and F1-score of 0.60. Overall accuracy slightly improves to 0.65, reflecting a better balanced but still imperfect model."
   ]
  },
  {
   "cell_type": "code",
   "execution_count": 41,
   "metadata": {},
   "outputs": [
    {
     "name": "stdout",
     "output_type": "stream",
     "text": [
      "           Decrease  Increase\n",
      "facebook  -6.051006 -6.205321\n",
      "amazon    -6.710791 -6.818880\n",
      "google    -6.842611 -6.788399\n",
      "apple     -6.856321 -6.559817\n",
      "new       -6.900823 -7.345811\n",
      "post      -7.024418 -7.068523\n",
      "instagram -7.096177       NaN\n",
      "twitter   -7.174241 -7.343999\n",
      "like      -7.232266 -7.405692\n",
      "social    -7.298016       NaN\n",
      "people    -7.303251 -7.539326\n",
      "want      -7.347507       NaN\n",
      "page      -7.358614 -7.432559\n",
      "president -7.391024       NaN\n",
      "search    -7.397434       NaN\n",
      "photo     -7.407157       NaN\n",
      "million   -7.411057       NaN\n",
      "use       -7.432722       NaN\n",
      "medium    -7.455976       NaN\n",
      "week      -7.462656 -7.439762\n",
      "ceo             NaN -7.318838\n",
      "day             NaN -7.362501\n",
      "year            NaN -7.377159\n",
      "time            NaN -7.426818\n",
      "write           NaN -7.438192\n",
      "change          NaN -7.445793\n",
      "tesla           NaN -7.521317\n",
      "company         NaN -7.535181\n",
      "right           NaN -7.542387\n"
     ]
    }
   ],
   "source": [
    "# Get feature names\n",
    "feature_names = tfidf_vectorizer.get_feature_names_out()\n",
    "\n",
    "# Get log probabilities of each feature for each class\n",
    "log_prob = nb_model_balanced.feature_log_prob_\n",
    "\n",
    "# Convert log probabilities to DataFrame for easier manipulation\n",
    "df_feature_importances = pd.DataFrame(log_prob, columns=feature_names).T\n",
    "\n",
    "# Now df_feature_importances[0] corresponds to 'decrease', df_feature_importances[1] corresponds to 'increase'\n",
    "\n",
    "# Top 20 words increasing the chance of 'decrease'\n",
    "top_decreasing = df_feature_importances[0].sort_values(ascending=False).head(20)\n",
    "\n",
    "# Top 20 words increasing the chance of 'increase'\n",
    "top_increasing = df_feature_importances[1].sort_values(ascending=False).head(20)\n",
    "\n",
    "# Combine for comparison\n",
    "comparison_df = pd.concat([top_decreasing, top_increasing], axis=1, keys=['Decrease', 'Increase'])\n",
    "\n",
    "print(comparison_df)\n"
   ]
  },
  {
   "cell_type": "markdown",
   "metadata": {},
   "source": [
    "Words like \"facebook\", \"amazon\", \"google\", and \"apple\" have negative log probabilities in both categories, but the values are closer for \"Decrease\", suggesting a slightly stronger associa-tion with negative market trends. The words exclusively men-tioned in the \"Increase\" category, such as \"CEO,\" \"company,\" \"Tesla,\" \"day,\" \"year,\" \"time,\" \"write,\" \"change,\" and \"right,\" are predominantly linked to business, corporate actions, and temporal events. They reflect optimism associated with corpo-rate progress, strategic changes, and significant temporal mark-ers and view as indicators of positive developments in the market.\n",
    "Certain terms such as \"instagram\", \"social\", \"want\", \"presi-dent\", \"search\", \"photo\", \"million\", \"use\", \"medium\", and a few others appear only under the \"Decrease\" category, or have a NaN (not a number) under \"Increase\", indicating these words are strongly associated with market declines. These words are commonly relate to social media, public communication, and personal interactions. These terms suggest a focus on general social engagement and media discourse, which might be asso-ciated with periods of negative sentiment when frequently mentioned in financial news. Additionally, the presence of words like \"president\" and \"million\" could indicate discus-sions surrounding political events or high-stake financial news."
   ]
  },
  {
   "cell_type": "markdown",
   "metadata": {},
   "source": [
    "## Undersample"
   ]
  },
  {
   "cell_type": "code",
   "execution_count": 42,
   "metadata": {},
   "outputs": [
    {
     "name": "stdout",
     "output_type": "stream",
     "text": [
      "['Bear' 'Bull']\n",
      "              precision    recall  f1-score   support\n",
      "\n",
      "           0       0.47      0.57      0.52        30\n",
      "           1       0.50      0.41      0.45        32\n",
      "\n",
      "    accuracy                           0.48        62\n",
      "   macro avg       0.49      0.49      0.48        62\n",
      "weighted avg       0.49      0.48      0.48        62\n",
      "\n"
     ]
    }
   ],
   "source": [
    "# Undersample majority class\n",
    "majority_undersampled = resample(majority,\n",
    "                                 replace=False,    # sample without replacement\n",
    "                                 n_samples=len(minority),  # to match minority class\n",
    "                                 random_state=42)   # reproducible results\n",
    "\n",
    "# Combine undersampled majority class with minority class\n",
    "balanced_df = pd.concat([majority_undersampled, minority])\n",
    "\n",
    "# Encode 'Market_Condition' to 0s and 1s\n",
    "label_encoder = LabelEncoder()\n",
    "y_undersampled_encoded = label_encoder.fit_transform(balanced_df['Market_Condition'])\n",
    "\n",
    "# Print the mapping to verify which label is 0 and which is 1\n",
    "print(label_encoder.classes_)  # first class being mapped to 0, second to 1\n",
    "\n",
    "# Split the balanced dataset back into X and y\n",
    "X_undersampled = balanced_df.drop(['Market_Condition', 'Weekly_Percentage_Change'], axis=1)\n",
    "y_undersampled = y_undersampled_encoded\n",
    "\n",
    "# Split the data into training and test sets\n",
    "X_train, X_test, y_train, y_test = train_test_split(X_undersampled, y_undersampled, test_size=0.2, random_state=42)\n",
    "\n",
    "# Initialize and train the Multinomial Naive Bayes model\n",
    "nb_model_under = MultinomialNB()\n",
    "nb_model_under.fit(X_train, y_train)\n",
    "\n",
    "# Predict on the test set\n",
    "y_pred_balanced = nb_model_under.predict(X_test)\n",
    "\n",
    "# Evaluate the model using the balanced dataset\n",
    "report_balanced = classification_report(y_test, y_pred_balanced)\n",
    "print(report_balanced)\n"
   ]
  },
  {
   "cell_type": "markdown",
   "metadata": {},
   "source": [
    "The undersampled approach results in the lowest overall accu-racy of 0.48. It offers more balanced performance between clas-ses than the baseline model but still shows moderate effec-tiveness. Class 0 has a precision of 0.47, recall of 0.57, and F1-score of 0.52. Class 1 scores are closely aligned with those of Class 0, with a precision of 0.50, recall of 0.41, and F1-score of 0.45."
   ]
  },
  {
   "cell_type": "code",
   "execution_count": 43,
   "metadata": {},
   "outputs": [
    {
     "name": "stdout",
     "output_type": "stream",
     "text": [
      "           Decrease  Increase\n",
      "facebook  -6.380001 -6.528676\n",
      "apple     -6.907361 -6.848550\n",
      "google    -7.025594 -6.783970\n",
      "amazon    -7.211033 -7.212333\n",
      "new       -7.218035 -7.718489\n",
      "post      -7.334369 -7.253621\n",
      "like      -7.378605 -7.442366\n",
      "social    -7.455502       NaN\n",
      "twitter   -7.466043 -7.619260\n",
      "medium    -7.513919       NaN\n",
      "company   -7.546127 -7.604516\n",
      "check     -7.555958       NaN\n",
      "people    -7.591345 -7.573469\n",
      "week      -7.599888       NaN\n",
      "search    -7.608428       NaN\n",
      "photo     -7.676280       NaN\n",
      "page      -7.682370 -7.718666\n",
      "know      -7.717281       NaN\n",
      "user      -7.722594       NaN\n",
      "instagram -7.726890       NaN\n",
      "world           NaN -7.528016\n",
      "day             NaN -7.530857\n",
      "ceo             NaN -7.558160\n",
      "change          NaN -7.598429\n",
      "time            NaN -7.636536\n",
      "year            NaN -7.665409\n",
      "video           NaN -7.674972\n",
      "’               NaN -7.763141\n",
      "trump           NaN -7.769182\n"
     ]
    }
   ],
   "source": [
    "# Get feature names\n",
    "feature_names = tfidf_vectorizer.get_feature_names_out()\n",
    "\n",
    "# Get log probabilities of each feature for each class\n",
    "log_prob = nb_model_under.feature_log_prob_\n",
    "\n",
    "# Convert log probabilities to DataFrame for easier manipulation\n",
    "df_feature_importances = pd.DataFrame(log_prob, columns=feature_names).T\n",
    "\n",
    "# Now df_feature_importances[0] corresponds to 'decrease', df_feature_importances[1] corresponds to 'increase'\n",
    "\n",
    "# Top 20 words increasing the chance of 'decrease'\n",
    "top_decreasing = df_feature_importances[0].sort_values(ascending=False).head(20)\n",
    "\n",
    "# Top 20 words increasing the chance of 'increase'\n",
    "top_increasing = df_feature_importances[1].sort_values(ascending=False).head(20)\n",
    "\n",
    "# Combine for comparison\n",
    "comparison_df = pd.concat([top_decreasing, top_increasing], axis=1, keys=['Decrease', 'Increase'])\n",
    "\n",
    "print(comparison_df)\n"
   ]
  },
  {
   "cell_type": "markdown",
   "metadata": {},
   "source": [
    "## Gradient Boosting"
   ]
  },
  {
   "cell_type": "code",
   "execution_count": 44,
   "metadata": {},
   "outputs": [
    {
     "name": "stdout",
     "output_type": "stream",
     "text": [
      "              precision    recall  f1-score   support\n",
      "\n",
      "           0       0.27      0.13      0.17        31\n",
      "           1       0.56      0.76      0.65        46\n",
      "\n",
      "    accuracy                           0.51        77\n",
      "   macro avg       0.42      0.44      0.41        77\n",
      "weighted avg       0.44      0.51      0.46        77\n",
      "\n"
     ]
    }
   ],
   "source": [
    "from sklearn.ensemble import GradientBoostingClassifier\n",
    "\n",
    "# Drop 'Market_Condition' and 'Weekly_Percentage_Change' to define your features\n",
    "X = merged_df_weekly.drop(['Market_Condition', 'Weekly_Percentage_Change'], axis=1)\n",
    "# Define your target variable\n",
    "y = merged_df_weekly['Market_Condition']\n",
    "\n",
    "\n",
    "# Assuming X and y are already defined\n",
    "X_train, X_test, y_train, y_test = train_test_split(X, y_encoded, test_size=0.2, random_state=42, stratify=y_encoded)\n",
    "\n",
    "# Initialize the Gradient Boosting Classifier\n",
    "gbc_model = GradientBoostingClassifier(random_state=42)\n",
    "gbc_model.fit(X_train, y_train)\n",
    "\n",
    "# Predict on the test set\n",
    "y_pred = gbc_model.predict(X_test)\n",
    "\n",
    "# Evaluate the model\n",
    "print(classification_report(y_test, y_pred))"
   ]
  },
  {
   "cell_type": "markdown",
   "metadata": {},
   "source": [
    "For Class 0, representing a decreasing market, the model shows a precision of 0.27, recall of 0.13, and an F1 score of 0.17, sug-gesting a lower predictive accuracy for this category. In con-trast, for Class 1, corresponding to an increasing market, the model achieves better precision at 0.56, recall at 0.76, and an F1 score of 0.65, indicating a relatively higher accuracy in identifying bullish trends. Overall, the model attains an accu-racy of 0.51."
   ]
  },
  {
   "cell_type": "code",
   "execution_count": 45,
   "metadata": {},
   "outputs": [
    {
     "name": "stdout",
     "output_type": "stream",
     "text": [
      "          feature  importance\n",
      "3172      netflix    0.067033\n",
      "3067       moment    0.042111\n",
      "994            co    0.036104\n",
      "2384         inc.    0.033939\n",
      "2679         lady    0.024806\n",
      "2457    instagram    0.019853\n",
      "2959       medium    0.018780\n",
      "879     challenge    0.018093\n",
      "2781         live    0.017360\n",
      "858     celebrate    0.016989\n",
      "3589         post    0.015890\n",
      "1285          day    0.015725\n",
      "5153         york    0.015015\n",
      "3948       reveal    0.014629\n",
      "4113       search    0.014331\n",
      "3391        panel    0.013926\n",
      "1620  enforcement    0.013888\n",
      "1566       effort    0.013534\n",
      "571        beauty    0.013142\n",
      "5001          war    0.012979\n"
     ]
    }
   ],
   "source": [
    "feature_importances = gbc_model.feature_importances_\n",
    "features_df = pd.DataFrame({'feature': X.columns, 'importance': feature_importances})\n",
    "features_df = features_df.sort_values(by='importance', ascending=False)\n",
    "\n",
    "# Display the top 50 most influential features\n",
    "print(features_df.head(20))"
   ]
  },
  {
   "cell_type": "markdown",
   "metadata": {},
   "source": [
    "The feature importance from the Gradient Boosting model reveals key influences on market trends, with high-ranking words like \"Netflix,\" \"Instagram,\" and corporate identifiers like \"inc.\" and \"co.\" suggesting the impact of media, entertain-ment, and company-specific news. Social dynamics captured by terms such as \"challenge\" and \"celebrate,\" along with refer-ences to events (\"moment,\" \"live\") and locations (\"York\"), indicate a connection between public sentiment and market behavior. Additionally, \"enforcement\" and \"war\" reflect the market's sensitivity to regulatory actions and geopolitical events, underscoring the complex interplay between diverse societal factors and financial market reactions."
   ]
  },
  {
   "cell_type": "markdown",
   "metadata": {
    "id": "GtJjVxcg_XI8"
   },
   "source": [
    "## Conclusion and Future Work\n",
    "The analysis of machine learning models including Logistic Regression, Multinomial Naive Bayes, and Gradient Boosting has provided deep insights into stock market trends. Logistic Regression showed clear patterns linked to market sentiment, while Multinomial Naive Bayes highlighted key terms driving market movements. The Gradient Boosting Model indicated that media influence, social dynamics, corporate activities, and broader socioeconomic factors significantly impact market behavior.\n",
    "\n",
    "Among these, the Oversampled Logistic Regression model excelled, showing superior performance with an overall accuracy of 0.82. It achieved a precision of 0.84 and recall of 0.74 for bear market predictions (class 0), and a precision of 0.80 and recall of 0.88 for bull markets (class 1), outperforming other models including Gradient Boosting.\n",
    "\n",
    "This study underscores the utility of TF-IDF extracted linguis-tic features and demonstrates the potential of NLP in financial market analysis. The results confirm that even with varying levels of model success, valuable market insights can be gleaned from the careful application of machine learning techniques to financial news text data.\n",
    "\n",
    "For future work, enriching the dataset with content from specialized financial platforms such as The Economist and Financial Times could deepen the insights. Inclusion of comprehensive news coverage from leading outlets like The New York Times would also broaden the scope of financial news analysis.The choice of weekly data aggregation was made to streamline computations, yet it limited the dataset's size. Future research should consider a daily analysis to capture more granular market fluctuations. Moreover, redefining bear and bull markets with a more refined threshold than simply the zero percent change could significantly improve the precision of the analysis.\n"
   ]
  },
  {
   "cell_type": "markdown",
   "metadata": {},
   "source": []
  }
 ],
 "metadata": {
  "colab": {
   "provenance": []
  },
  "kernelspec": {
   "display_name": "Python 3 (ipykernel)",
   "language": "python",
   "name": "python3"
  },
  "language_info": {
   "codemirror_mode": {
    "name": "ipython",
    "version": 3
   },
   "file_extension": ".py",
   "mimetype": "text/x-python",
   "name": "python",
   "nbconvert_exporter": "python",
   "pygments_lexer": "ipython3",
   "version": "3.11.4"
  }
 },
 "nbformat": 4,
 "nbformat_minor": 1
}
